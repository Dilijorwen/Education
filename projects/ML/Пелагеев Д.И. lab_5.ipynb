{
 "cells": [
  {
   "metadata": {},
   "cell_type": "markdown",
   "source": [
    "# Лабораторная работа №5\n",
    "## Выполнил: Пелагеев Даниил Иванович Б9122-01.03.02мкт\n",
    "### ..."
   ],
   "id": "d914a81fda216c43"
  },
  {
   "metadata": {},
   "cell_type": "markdown",
   "source": [
    "# Информация по датасету:\n",
    "Это у нас датасет с пшеницой\n",
    "\n",
    "Признаки: \n",
    "- Area — площадь семени.\n",
    "- Perimeter — периметр семени.\n",
    "- Compactness — компактность семени (рассчитывается как ￼).\n",
    "- Length of kernel — длина ядра.\n",
    "- Width of kernel — ширина ядра.\n",
    "- Asymmetry coefficient — коэффициент асимметрии.\n",
    "- Length of kernel groove — длина борозды ядра.\n",
    "\n",
    "Классы: \n",
    "- Kama (Кама).\n",
    "- Rosa (Роза).\n",
    "- 3: Canadian (Канадская пшеница)."
   ],
   "id": "e782d167b80d0477"
  },
  {
   "cell_type": "code",
   "id": "initial_id",
   "metadata": {
    "collapsed": true,
    "ExecuteTime": {
     "end_time": "2024-11-07T11:41:47.640677Z",
     "start_time": "2024-11-07T11:41:47.629806Z"
    }
   },
   "source": [
    "import pandas as pd\n",
    "import numpy as np\n",
    "import seaborn as sns\n",
    "from datetime import datetime\n",
    "import matplotlib.pyplot as plt\n",
    "from sklearn.compose import ColumnTransformer\n",
    "from sklearn.pipeline import Pipeline\n",
    "from sklearn.impute import SimpleImputer\n",
    "from sklearn.preprocessing import OneHotEncoder, MinMaxScaler\n",
    "from sklearn.model_selection import train_test_split\n",
    "%matplotlib inline"
   ],
   "outputs": [],
   "execution_count": 133
  },
  {
   "metadata": {
    "ExecuteTime": {
     "end_time": "2024-11-07T11:28:13.146182Z",
     "start_time": "2024-11-07T11:28:13.122998Z"
    }
   },
   "cell_type": "code",
   "source": [
    "# Загрузка данных\n",
    "df = pd.read_csv('marketing_campaign.csv', sep=\"\\t\")\n",
    "df.head()"
   ],
   "id": "afa233d4d8a5ad16",
   "outputs": [
    {
     "data": {
      "text/plain": [
       "     ID  Year_Birth   Education Marital_Status   Income  Kidhome  Teenhome  \\\n",
       "0  5524        1957  Graduation         Single  58138.0        0         0   \n",
       "1  2174        1954  Graduation         Single  46344.0        1         1   \n",
       "2  4141        1965  Graduation       Together  71613.0        0         0   \n",
       "3  6182        1984  Graduation       Together  26646.0        1         0   \n",
       "4  5324        1981         PhD        Married  58293.0        1         0   \n",
       "\n",
       "  Dt_Customer  Recency  MntWines  ...  NumWebVisitsMonth  AcceptedCmp3  \\\n",
       "0  04-09-2012       58       635  ...                  7             0   \n",
       "1  08-03-2014       38        11  ...                  5             0   \n",
       "2  21-08-2013       26       426  ...                  4             0   \n",
       "3  10-02-2014       26        11  ...                  6             0   \n",
       "4  19-01-2014       94       173  ...                  5             0   \n",
       "\n",
       "   AcceptedCmp4  AcceptedCmp5  AcceptedCmp1  AcceptedCmp2  Complain  \\\n",
       "0             0             0             0             0         0   \n",
       "1             0             0             0             0         0   \n",
       "2             0             0             0             0         0   \n",
       "3             0             0             0             0         0   \n",
       "4             0             0             0             0         0   \n",
       "\n",
       "   Z_CostContact  Z_Revenue  Response  \n",
       "0              3         11         1  \n",
       "1              3         11         0  \n",
       "2              3         11         0  \n",
       "3              3         11         0  \n",
       "4              3         11         0  \n",
       "\n",
       "[5 rows x 29 columns]"
      ],
      "text/html": [
       "<div>\n",
       "<style scoped>\n",
       "    .dataframe tbody tr th:only-of-type {\n",
       "        vertical-align: middle;\n",
       "    }\n",
       "\n",
       "    .dataframe tbody tr th {\n",
       "        vertical-align: top;\n",
       "    }\n",
       "\n",
       "    .dataframe thead th {\n",
       "        text-align: right;\n",
       "    }\n",
       "</style>\n",
       "<table border=\"1\" class=\"dataframe\">\n",
       "  <thead>\n",
       "    <tr style=\"text-align: right;\">\n",
       "      <th></th>\n",
       "      <th>ID</th>\n",
       "      <th>Year_Birth</th>\n",
       "      <th>Education</th>\n",
       "      <th>Marital_Status</th>\n",
       "      <th>Income</th>\n",
       "      <th>Kidhome</th>\n",
       "      <th>Teenhome</th>\n",
       "      <th>Dt_Customer</th>\n",
       "      <th>Recency</th>\n",
       "      <th>MntWines</th>\n",
       "      <th>...</th>\n",
       "      <th>NumWebVisitsMonth</th>\n",
       "      <th>AcceptedCmp3</th>\n",
       "      <th>AcceptedCmp4</th>\n",
       "      <th>AcceptedCmp5</th>\n",
       "      <th>AcceptedCmp1</th>\n",
       "      <th>AcceptedCmp2</th>\n",
       "      <th>Complain</th>\n",
       "      <th>Z_CostContact</th>\n",
       "      <th>Z_Revenue</th>\n",
       "      <th>Response</th>\n",
       "    </tr>\n",
       "  </thead>\n",
       "  <tbody>\n",
       "    <tr>\n",
       "      <th>0</th>\n",
       "      <td>5524</td>\n",
       "      <td>1957</td>\n",
       "      <td>Graduation</td>\n",
       "      <td>Single</td>\n",
       "      <td>58138.0</td>\n",
       "      <td>0</td>\n",
       "      <td>0</td>\n",
       "      <td>04-09-2012</td>\n",
       "      <td>58</td>\n",
       "      <td>635</td>\n",
       "      <td>...</td>\n",
       "      <td>7</td>\n",
       "      <td>0</td>\n",
       "      <td>0</td>\n",
       "      <td>0</td>\n",
       "      <td>0</td>\n",
       "      <td>0</td>\n",
       "      <td>0</td>\n",
       "      <td>3</td>\n",
       "      <td>11</td>\n",
       "      <td>1</td>\n",
       "    </tr>\n",
       "    <tr>\n",
       "      <th>1</th>\n",
       "      <td>2174</td>\n",
       "      <td>1954</td>\n",
       "      <td>Graduation</td>\n",
       "      <td>Single</td>\n",
       "      <td>46344.0</td>\n",
       "      <td>1</td>\n",
       "      <td>1</td>\n",
       "      <td>08-03-2014</td>\n",
       "      <td>38</td>\n",
       "      <td>11</td>\n",
       "      <td>...</td>\n",
       "      <td>5</td>\n",
       "      <td>0</td>\n",
       "      <td>0</td>\n",
       "      <td>0</td>\n",
       "      <td>0</td>\n",
       "      <td>0</td>\n",
       "      <td>0</td>\n",
       "      <td>3</td>\n",
       "      <td>11</td>\n",
       "      <td>0</td>\n",
       "    </tr>\n",
       "    <tr>\n",
       "      <th>2</th>\n",
       "      <td>4141</td>\n",
       "      <td>1965</td>\n",
       "      <td>Graduation</td>\n",
       "      <td>Together</td>\n",
       "      <td>71613.0</td>\n",
       "      <td>0</td>\n",
       "      <td>0</td>\n",
       "      <td>21-08-2013</td>\n",
       "      <td>26</td>\n",
       "      <td>426</td>\n",
       "      <td>...</td>\n",
       "      <td>4</td>\n",
       "      <td>0</td>\n",
       "      <td>0</td>\n",
       "      <td>0</td>\n",
       "      <td>0</td>\n",
       "      <td>0</td>\n",
       "      <td>0</td>\n",
       "      <td>3</td>\n",
       "      <td>11</td>\n",
       "      <td>0</td>\n",
       "    </tr>\n",
       "    <tr>\n",
       "      <th>3</th>\n",
       "      <td>6182</td>\n",
       "      <td>1984</td>\n",
       "      <td>Graduation</td>\n",
       "      <td>Together</td>\n",
       "      <td>26646.0</td>\n",
       "      <td>1</td>\n",
       "      <td>0</td>\n",
       "      <td>10-02-2014</td>\n",
       "      <td>26</td>\n",
       "      <td>11</td>\n",
       "      <td>...</td>\n",
       "      <td>6</td>\n",
       "      <td>0</td>\n",
       "      <td>0</td>\n",
       "      <td>0</td>\n",
       "      <td>0</td>\n",
       "      <td>0</td>\n",
       "      <td>0</td>\n",
       "      <td>3</td>\n",
       "      <td>11</td>\n",
       "      <td>0</td>\n",
       "    </tr>\n",
       "    <tr>\n",
       "      <th>4</th>\n",
       "      <td>5324</td>\n",
       "      <td>1981</td>\n",
       "      <td>PhD</td>\n",
       "      <td>Married</td>\n",
       "      <td>58293.0</td>\n",
       "      <td>1</td>\n",
       "      <td>0</td>\n",
       "      <td>19-01-2014</td>\n",
       "      <td>94</td>\n",
       "      <td>173</td>\n",
       "      <td>...</td>\n",
       "      <td>5</td>\n",
       "      <td>0</td>\n",
       "      <td>0</td>\n",
       "      <td>0</td>\n",
       "      <td>0</td>\n",
       "      <td>0</td>\n",
       "      <td>0</td>\n",
       "      <td>3</td>\n",
       "      <td>11</td>\n",
       "      <td>0</td>\n",
       "    </tr>\n",
       "  </tbody>\n",
       "</table>\n",
       "<p>5 rows × 29 columns</p>\n",
       "</div>"
      ]
     },
     "execution_count": 125,
     "metadata": {},
     "output_type": "execute_result"
    }
   ],
   "execution_count": 125
  },
  {
   "metadata": {
    "ExecuteTime": {
     "end_time": "2024-11-07T11:28:13.180790Z",
     "start_time": "2024-11-07T11:28:13.177849Z"
    }
   },
   "cell_type": "code",
   "source": [
    "X = df.drop(columns=['Response'])\n",
    "y = df['Response']\n",
    "\n",
    "X.shape, y.shape"
   ],
   "id": "c778b1cdcd650860",
   "outputs": [
    {
     "data": {
      "text/plain": [
       "((2240, 28), (2240,))"
      ]
     },
     "execution_count": 126,
     "metadata": {},
     "output_type": "execute_result"
    }
   ],
   "execution_count": 126
  },
  {
   "metadata": {},
   "cell_type": "markdown",
   "source": "На первом этапе загружаем данные и выделяем матрицу признаков `X`, содержащую все столбцы, кроме целевой переменной, и саму целевую переменную `y` (в данном случае это Response).",
   "id": "c0d54af384619d70"
  },
  {
   "metadata": {
    "ExecuteTime": {
     "end_time": "2024-11-07T11:28:13.211111Z",
     "start_time": "2024-11-07T11:28:13.206957Z"
    }
   },
   "cell_type": "code",
   "source": [
    "# Проверяем наличие пропущенных значений\n",
    "missing_values = df.isnull().sum()\n",
    "missing_values = missing_values[missing_values > 0]\n",
    "print(\"Пропущенные значения:\\n\", missing_values, sep=\"\")"
   ],
   "id": "8e64a679214e93a2",
   "outputs": [
    {
     "name": "stdout",
     "output_type": "stream",
     "text": [
      "Пропущенные значения:\n",
      "Income    24\n",
      "dtype: int64\n"
     ]
    }
   ],
   "execution_count": 127
  },
  {
   "metadata": {},
   "cell_type": "markdown",
   "source": "Смотрим каждый столбец на наличие пропущенных значений и выводим только те столбцы, где они присутствуют. Мы видим, что пропуски есть только в столбце `Income`.",
   "id": "6c4361376e7bb8c9"
  },
  {
   "metadata": {
    "ExecuteTime": {
     "end_time": "2024-11-07T11:28:13.233864Z",
     "start_time": "2024-11-07T11:28:13.227655Z"
    }
   },
   "cell_type": "code",
   "source": [
    "# Заполняем пропуски в числовых столбцах медианным значением и в категориальных значением \"missing\"\n",
    "numeric_imputer = SimpleImputer(strategy=\"median\")\n",
    "categorical_imputer = SimpleImputer(strategy=\"constant\", fill_value=\"missing\")\n",
    "\n",
    "# Заполняем пропуски в столбце \"Income\" медианой\n",
    "df['Income'] = numeric_imputer.fit_transform(df[['Income']])\n",
    "\n",
    "# Просмотр данных после обработки пропусков\n",
    "print(df.isnull().sum())"
   ],
   "id": "275e6afa9feabac",
   "outputs": [
    {
     "name": "stdout",
     "output_type": "stream",
     "text": [
      "ID                     0\n",
      "Year_Birth             0\n",
      "Education              0\n",
      "Marital_Status         0\n",
      "Income                 0\n",
      "Kidhome                0\n",
      "Teenhome               0\n",
      "Dt_Customer            0\n",
      "Recency                0\n",
      "MntWines               0\n",
      "MntFruits              0\n",
      "MntMeatProducts        0\n",
      "MntFishProducts        0\n",
      "MntSweetProducts       0\n",
      "MntGoldProds           0\n",
      "NumDealsPurchases      0\n",
      "NumWebPurchases        0\n",
      "NumCatalogPurchases    0\n",
      "NumStorePurchases      0\n",
      "NumWebVisitsMonth      0\n",
      "AcceptedCmp3           0\n",
      "AcceptedCmp4           0\n",
      "AcceptedCmp5           0\n",
      "AcceptedCmp1           0\n",
      "AcceptedCmp2           0\n",
      "Complain               0\n",
      "Z_CostContact          0\n",
      "Z_Revenue              0\n",
      "Response               0\n",
      "dtype: int64\n"
     ]
    }
   ],
   "execution_count": 128
  },
  {
   "metadata": {},
   "cell_type": "markdown",
   "source": "Так как пропуски есть только в Income, мы создаем SimpleImputer для числовых данных и заполняем пропуски медианой. Это позволяет сохранить распределение значений в этом столбце. После проверяем, что пропущенные значения успешно заполнены",
   "id": "f87e609e95c5f7d2"
  },
  {
   "metadata": {
    "ExecuteTime": {
     "end_time": "2024-11-07T11:28:13.275769Z",
     "start_time": "2024-11-07T11:28:13.265011Z"
    }
   },
   "cell_type": "code",
   "source": [
    "# Создаем новые признаки для улучшения анализа\n",
    "df[\"Age\"] = datetime.now().year - df[\"Year_Birth\"]\n",
    "df[\"Spent\"] = (\n",
    "        df[\"MntWines\"] + df[\"MntFruits\"] + df[\"MntMeatProducts\"] +\n",
    "        df[\"MntFishProducts\"] + df[\"MntSweetProducts\"] + df[\"MntGoldProds\"]\n",
    ")\n",
    "\n",
    "# Определяем статус проживания\n",
    "df[\"Living_With\"] = df[\"Marital_Status\"].replace({\n",
    "    \"Married\": \"Partner\", \"Together\": \"Partner\",\n",
    "    \"Absurd\": \"Alone\", \"Widow\": \"Alone\",\n",
    "    \"YOLO\": \"Alone\", \"Divorced\": \"Alone\", \"Single\": \"Alone\"\n",
    "})\n",
    "\n",
    "# Признак количества детей и размера семьи\n",
    "df[\"Children\"] = df[\"Kidhome\"] + df[\"Teenhome\"]\n",
    "df[\"Family_Size\"] = np.where(df['Living_With'] == \"Alone\", 1, 2) + df[\"Children\"]\n",
    "\n",
    "# Признак наличия детей\n",
    "df[\"Is_Parent\"] = np.where(df[\"Children\"] > 0, 1, 0)\n",
    "\n",
    "# Сегментация уровня образования\n",
    "df[\"Education\"] = df[\"Education\"].replace({\n",
    "    \"Basic\": \"Undergraduate\", \"2n Cycle\": \"Undergraduate\",\n",
    "    \"Graduation\": \"Graduate\", \"Master\": \"Postgraduate\", \"PhD\": \"Postgraduate\"\n",
    "})\n",
    "\n",
    "# Переименование некоторых столбцов для удобства\n",
    "df = df.rename(columns={\n",
    "    \"MntWines\": \"Wines\", \"MntFruits\": \"Fruits\",\n",
    "    \"MntMeatProducts\": \"Meat\", \"MntFishProducts\": \"Fish\",\n",
    "    \"MntSweetProducts\": \"Sweets\", \"MntGoldProds\": \"Gold\"\n",
    "})\n",
    "\n",
    "# Удаление избыточных признаков\n",
    "to_drop = [\"Marital_Status\", \"Dt_Customer\", \"Z_CostContact\", \"Z_Revenue\", \"Year_Birth\", \"ID\"]\n",
    "df = df.drop(columns=to_drop)\n",
    "\n",
    "# Просмотр данных после чистки\n",
    "df.head()"
   ],
   "id": "7f6157417697aef8",
   "outputs": [
    {
     "data": {
      "text/plain": [
       "      Education   Income  Kidhome  Teenhome  Recency  Wines  Fruits  Meat  \\\n",
       "0      Graduate  58138.0        0         0       58    635      88   546   \n",
       "1      Graduate  46344.0        1         1       38     11       1     6   \n",
       "2      Graduate  71613.0        0         0       26    426      49   127   \n",
       "3      Graduate  26646.0        1         0       26     11       4    20   \n",
       "4  Postgraduate  58293.0        1         0       94    173      43   118   \n",
       "\n",
       "   Fish  Sweets  ...  AcceptedCmp1  AcceptedCmp2  Complain  Response  Age  \\\n",
       "0   172      88  ...             0             0         0         1   67   \n",
       "1     2       1  ...             0             0         0         0   70   \n",
       "2   111      21  ...             0             0         0         0   59   \n",
       "3    10       3  ...             0             0         0         0   40   \n",
       "4    46      27  ...             0             0         0         0   43   \n",
       "\n",
       "   Spent  Living_With  Children  Family_Size  Is_Parent  \n",
       "0   1617        Alone         0            1          0  \n",
       "1     27        Alone         2            3          1  \n",
       "2    776      Partner         0            2          0  \n",
       "3     53      Partner         1            3          1  \n",
       "4    422      Partner         1            3          1  \n",
       "\n",
       "[5 rows x 29 columns]"
      ],
      "text/html": [
       "<div>\n",
       "<style scoped>\n",
       "    .dataframe tbody tr th:only-of-type {\n",
       "        vertical-align: middle;\n",
       "    }\n",
       "\n",
       "    .dataframe tbody tr th {\n",
       "        vertical-align: top;\n",
       "    }\n",
       "\n",
       "    .dataframe thead th {\n",
       "        text-align: right;\n",
       "    }\n",
       "</style>\n",
       "<table border=\"1\" class=\"dataframe\">\n",
       "  <thead>\n",
       "    <tr style=\"text-align: right;\">\n",
       "      <th></th>\n",
       "      <th>Education</th>\n",
       "      <th>Income</th>\n",
       "      <th>Kidhome</th>\n",
       "      <th>Teenhome</th>\n",
       "      <th>Recency</th>\n",
       "      <th>Wines</th>\n",
       "      <th>Fruits</th>\n",
       "      <th>Meat</th>\n",
       "      <th>Fish</th>\n",
       "      <th>Sweets</th>\n",
       "      <th>...</th>\n",
       "      <th>AcceptedCmp1</th>\n",
       "      <th>AcceptedCmp2</th>\n",
       "      <th>Complain</th>\n",
       "      <th>Response</th>\n",
       "      <th>Age</th>\n",
       "      <th>Spent</th>\n",
       "      <th>Living_With</th>\n",
       "      <th>Children</th>\n",
       "      <th>Family_Size</th>\n",
       "      <th>Is_Parent</th>\n",
       "    </tr>\n",
       "  </thead>\n",
       "  <tbody>\n",
       "    <tr>\n",
       "      <th>0</th>\n",
       "      <td>Graduate</td>\n",
       "      <td>58138.0</td>\n",
       "      <td>0</td>\n",
       "      <td>0</td>\n",
       "      <td>58</td>\n",
       "      <td>635</td>\n",
       "      <td>88</td>\n",
       "      <td>546</td>\n",
       "      <td>172</td>\n",
       "      <td>88</td>\n",
       "      <td>...</td>\n",
       "      <td>0</td>\n",
       "      <td>0</td>\n",
       "      <td>0</td>\n",
       "      <td>1</td>\n",
       "      <td>67</td>\n",
       "      <td>1617</td>\n",
       "      <td>Alone</td>\n",
       "      <td>0</td>\n",
       "      <td>1</td>\n",
       "      <td>0</td>\n",
       "    </tr>\n",
       "    <tr>\n",
       "      <th>1</th>\n",
       "      <td>Graduate</td>\n",
       "      <td>46344.0</td>\n",
       "      <td>1</td>\n",
       "      <td>1</td>\n",
       "      <td>38</td>\n",
       "      <td>11</td>\n",
       "      <td>1</td>\n",
       "      <td>6</td>\n",
       "      <td>2</td>\n",
       "      <td>1</td>\n",
       "      <td>...</td>\n",
       "      <td>0</td>\n",
       "      <td>0</td>\n",
       "      <td>0</td>\n",
       "      <td>0</td>\n",
       "      <td>70</td>\n",
       "      <td>27</td>\n",
       "      <td>Alone</td>\n",
       "      <td>2</td>\n",
       "      <td>3</td>\n",
       "      <td>1</td>\n",
       "    </tr>\n",
       "    <tr>\n",
       "      <th>2</th>\n",
       "      <td>Graduate</td>\n",
       "      <td>71613.0</td>\n",
       "      <td>0</td>\n",
       "      <td>0</td>\n",
       "      <td>26</td>\n",
       "      <td>426</td>\n",
       "      <td>49</td>\n",
       "      <td>127</td>\n",
       "      <td>111</td>\n",
       "      <td>21</td>\n",
       "      <td>...</td>\n",
       "      <td>0</td>\n",
       "      <td>0</td>\n",
       "      <td>0</td>\n",
       "      <td>0</td>\n",
       "      <td>59</td>\n",
       "      <td>776</td>\n",
       "      <td>Partner</td>\n",
       "      <td>0</td>\n",
       "      <td>2</td>\n",
       "      <td>0</td>\n",
       "    </tr>\n",
       "    <tr>\n",
       "      <th>3</th>\n",
       "      <td>Graduate</td>\n",
       "      <td>26646.0</td>\n",
       "      <td>1</td>\n",
       "      <td>0</td>\n",
       "      <td>26</td>\n",
       "      <td>11</td>\n",
       "      <td>4</td>\n",
       "      <td>20</td>\n",
       "      <td>10</td>\n",
       "      <td>3</td>\n",
       "      <td>...</td>\n",
       "      <td>0</td>\n",
       "      <td>0</td>\n",
       "      <td>0</td>\n",
       "      <td>0</td>\n",
       "      <td>40</td>\n",
       "      <td>53</td>\n",
       "      <td>Partner</td>\n",
       "      <td>1</td>\n",
       "      <td>3</td>\n",
       "      <td>1</td>\n",
       "    </tr>\n",
       "    <tr>\n",
       "      <th>4</th>\n",
       "      <td>Postgraduate</td>\n",
       "      <td>58293.0</td>\n",
       "      <td>1</td>\n",
       "      <td>0</td>\n",
       "      <td>94</td>\n",
       "      <td>173</td>\n",
       "      <td>43</td>\n",
       "      <td>118</td>\n",
       "      <td>46</td>\n",
       "      <td>27</td>\n",
       "      <td>...</td>\n",
       "      <td>0</td>\n",
       "      <td>0</td>\n",
       "      <td>0</td>\n",
       "      <td>0</td>\n",
       "      <td>43</td>\n",
       "      <td>422</td>\n",
       "      <td>Partner</td>\n",
       "      <td>1</td>\n",
       "      <td>3</td>\n",
       "      <td>1</td>\n",
       "    </tr>\n",
       "  </tbody>\n",
       "</table>\n",
       "<p>5 rows × 29 columns</p>\n",
       "</div>"
      ]
     },
     "execution_count": 129,
     "metadata": {},
     "output_type": "execute_result"
    }
   ],
   "execution_count": 129
  },
  {
   "metadata": {},
   "cell_type": "markdown",
   "source": "На этом этапе мы создаем дополнительные признаки, которые добавляют значимую информацию для анализа. Также убираем некоторые признаки, которые для нас стали бесполезными",
   "id": "a79ba94f4d3e7769"
  },
  {
   "metadata": {
    "ExecuteTime": {
     "end_time": "2024-11-07T11:28:13.355204Z",
     "start_time": "2024-11-07T11:28:13.348470Z"
    }
   },
   "cell_type": "code",
   "source": [
    "# Выделяем числовые и категориальные признаки\n",
    "numeric_features = [\"Income\", \"Age\", \"Spent\", \"Family_Size\", \"Children\"]\n",
    "categorical_features = [\"Education\", \"Living_With\"]\n",
    "\n",
    "# Создаем преобразования для числовых признаков\n",
    "numeric_transformer = Pipeline(steps=[\n",
    "    (\"scaler\", MinMaxScaler())  # Масштабируем числовые данные\n",
    "])\n",
    "\n",
    "# Создаем преобразования для категориальных признаков\n",
    "categorical_transformer = Pipeline(steps=[\n",
    "    (\"encoder\", OneHotEncoder(drop=\"first\"))  # Кодируем категории\n",
    "])\n",
    "\n",
    "# Объединяем преобразования с помощью ColumnTransformer\n",
    "preprocessor = ColumnTransformer(\n",
    "    transformers=[\n",
    "        (\"num\", numeric_transformer, numeric_features),\n",
    "        (\"cat\", categorical_transformer, categorical_features)\n",
    "    ]\n",
    ")\n",
    "\n",
    "# Применяем ColumnTransformer к матрице признаков\n",
    "X_processed = preprocessor.fit_transform(df)\n",
    "X_processed"
   ],
   "id": "bed211fd3f6cf22",
   "outputs": [
    {
     "data": {
      "text/plain": [
       "array([[0.08483222, 0.37864078, 0.63968254, ..., 0.        , 0.        ,\n",
       "        0.        ],\n",
       "       [0.06709518, 0.40776699, 0.00873016, ..., 0.        , 0.        ,\n",
       "        0.        ],\n",
       "       [0.10509733, 0.30097087, 0.30595238, ..., 0.        , 0.        ,\n",
       "        1.        ],\n",
       "       ...,\n",
       "       [0.08309221, 0.14563107, 0.49047619, ..., 0.        , 0.        ,\n",
       "        0.        ],\n",
       "       [0.10153609, 0.38834951, 0.33253968, ..., 1.        , 0.        ,\n",
       "        1.        ],\n",
       "       [0.07690815, 0.40776699, 0.06626984, ..., 1.        , 0.        ,\n",
       "        1.        ]])"
      ]
     },
     "execution_count": 130,
     "metadata": {},
     "output_type": "execute_result"
    }
   ],
   "execution_count": 130
  },
  {
   "metadata": {},
   "cell_type": "markdown",
   "source": [
    "Здесь мы используем ColumnTransformer для обработки числовых и категориальных признаков:\n",
    "\n",
    "- **Числовые признаки** масштабируются с помощью `MinMaxScaler`, чтобы привести значения в диапазон от 0 до 1.\n",
    "- **Категориальные признаки** кодируются с помощью `OneHotEncoder`, который превращает категориальные переменные в числовые значения, избегая мультиколлинеарности за счет исключения первой категории. `ColumnTransformer` объединяет эти преобразования и применяет их ко всей матрице признаков, что позволяет одновременно обработать числовые и категориальные данные."
   ],
   "id": "35cf6f78c18b6637"
  },
  {
   "metadata": {
    "ExecuteTime": {
     "end_time": "2024-11-07T11:28:13.577753Z",
     "start_time": "2024-11-07T11:28:13.427820Z"
    }
   },
   "cell_type": "code",
   "source": [
    "# Преобразуем данные обратно в dfFrame для визуализации корреляций\n",
    "processed_df = pd.DataFrame(X_processed, columns=preprocessor.get_feature_names_out())\n",
    "\n",
    "# Корреляционная матрица числовых признаков\n",
    "plt.figure(figsize=(12, 6))\n",
    "sns.heatmap(processed_df.corr(), cmap=\"YlGnBu\", annot=False)\n",
    "plt.title(\"Correlation Heatmap for Numeric Features\")\n",
    "plt.show()"
   ],
   "id": "f1b50c576f6c7fd5",
   "outputs": [
    {
     "data": {
      "text/plain": [
       "<Figure size 1200x600 with 2 Axes>"
      ],
      "image/png": "[encoded data removed]"
     },
     "metadata": {},
     "output_type": "display_data"
    }
   ],
   "execution_count": 131
  },
  {
   "metadata": {},
   "cell_type": "markdown",
   "source": [
    "На этом этапе мы визуализируем корреляции между числовыми признаками после предобработки данных:\n",
    "\n",
    "1) **Преобразование в dfFrame**: Мы преобразуем `X_processed` обратно в `dfFrame`, используя имена признаков из `preprocessor`, что позволяет нам получить названия всех новых столбцов после кодирования категорий.\n",
    "2) **Корреляционная матрица**: Строим тепловую карту корреляций для визуализации зависимости между числовыми признаками. Это помогает выявить потенциально скоррелированные или независимые признаки, что может быть полезным для последующего анализа."
   ],
   "id": "4f4713d13eaf251c"
  },
  {
   "metadata": {
    "ExecuteTime": {
     "end_time": "2024-11-07T11:28:13.718649Z",
     "start_time": "2024-11-07T11:28:13.713692Z"
    }
   },
   "cell_type": "code",
   "source": [
    "# Разделяем данные на обучающую и тестовую выборки\n",
    "X_train, X_test, y_train, y_test = train_test_split(X_processed, y, test_size=0.2, random_state=42)\n",
    "\n",
    "# Проверка размеров выборок\n",
    "X_train.shape, X_test.shape, y_train.shape, y_test.shape"
   ],
   "id": "fc3e228688cd67a9",
   "outputs": [
    {
     "data": {
      "text/plain": [
       "((1792, 8), (448, 8), (1792,), (448,))"
      ]
     },
     "execution_count": 132,
     "metadata": {},
     "output_type": "execute_result"
    }
   ],
   "execution_count": 132
  },
  {
   "metadata": {},
   "cell_type": "markdown",
   "source": [
    "На последнем этапе мы делим предобработанные данные на обучающую и тестовую выборки:\n",
    "\n",
    "1) **Разделение данных**: Мы используем `train_test_split` с параметром `test_size=0.2`, чтобы выделить 80% данных для обучения модели и 20% для тестирования.\n",
    "2) **Проверка размеров**: Проверяем размеры выборок (`X_train`, `X_test`, `y_train`, `y_test`), чтобы убедиться, что данные корректно разделены и готовы к дальнейшему обучению модели."
   ],
   "id": "ae6f65bd99ef1b40"
  }
 ],
 "metadata": {
  "kernelspec": {
   "display_name": "Python 3",
   "language": "python",
   "name": "python3"
  },
  "language_info": {
   "codemirror_mode": {
    "name": "ipython",
    "version": 2
   },
   "file_extension": ".py",
   "mimetype": "text/x-python",
   "name": "python",
   "nbconvert_exporter": "python",
   "pygments_lexer": "ipython2",
   "version": "2.7.6"
  }
 },
 "nbformat": 4,
 "nbformat_minor": 5
}
