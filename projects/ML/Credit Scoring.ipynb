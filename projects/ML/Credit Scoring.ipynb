{
 "cells": [
  {
   "cell_type": "code",
   "id": "initial_id",
   "metadata": {
    "collapsed": true,
    "ExecuteTime": {
     "end_time": "2025-06-10T11:00:32.958417Z",
     "start_time": "2025-06-10T11:00:32.953848Z"
    }
   },
   "source": [
    "import pandas as pd\n",
    "import numpy as np\n",
    "from sklearn.preprocessing import OneHotEncoder\n",
    "from sklearn.compose import ColumnTransformer\n",
    "from sklearn.pipeline import Pipeline\n",
    "from sklearn.ensemble import RandomForestClassifier"
   ],
   "outputs": [],
   "execution_count": 76
  },
  {
   "metadata": {},
   "cell_type": "markdown",
   "source": "Загрузка данных из файлов",
   "id": "1a2e6be0e2d62d33"
  },
  {
   "metadata": {
    "ExecuteTime": {
     "end_time": "2025-06-10T11:00:33.435397Z",
     "start_time": "2025-06-10T11:00:32.963897Z"
    }
   },
   "cell_type": "code",
   "source": [
    "applications = pd.read_csv(\"datasets/application_record.csv\")\n",
    "credits = pd.read_csv(\"datasets/credit_record.csv\")"
   ],
   "id": "7bf6a206313a8273",
   "outputs": [],
   "execution_count": 77
  },
  {
   "metadata": {},
   "cell_type": "markdown",
   "source": "Проверка данных",
   "id": "d0c29891bdeb011a"
  },
  {
   "metadata": {
    "ExecuteTime": {
     "end_time": "2025-06-10T11:00:33.467201Z",
     "start_time": "2025-06-10T11:00:33.459515Z"
    }
   },
   "cell_type": "code",
   "source": "applications.head()",
   "id": "166f93261348bbfb",
   "outputs": [
    {
     "data": {
      "text/plain": [
       "        ID CODE_GENDER FLAG_OWN_CAR FLAG_OWN_REALTY  CNT_CHILDREN  \\\n",
       "0  5008804           M            Y               Y             0   \n",
       "1  5008805           M            Y               Y             0   \n",
       "2  5008806           M            Y               Y             0   \n",
       "3  5008808           F            N               Y             0   \n",
       "4  5008809           F            N               Y             0   \n",
       "\n",
       "   AMT_INCOME_TOTAL      NAME_INCOME_TYPE            NAME_EDUCATION_TYPE  \\\n",
       "0          427500.0               Working               Higher education   \n",
       "1          427500.0               Working               Higher education   \n",
       "2          112500.0               Working  Secondary / secondary special   \n",
       "3          270000.0  Commercial associate  Secondary / secondary special   \n",
       "4          270000.0  Commercial associate  Secondary / secondary special   \n",
       "\n",
       "     NAME_FAMILY_STATUS  NAME_HOUSING_TYPE  DAYS_BIRTH  DAYS_EMPLOYED  \\\n",
       "0        Civil marriage   Rented apartment      -12005          -4542   \n",
       "1        Civil marriage   Rented apartment      -12005          -4542   \n",
       "2               Married  House / apartment      -21474          -1134   \n",
       "3  Single / not married  House / apartment      -19110          -3051   \n",
       "4  Single / not married  House / apartment      -19110          -3051   \n",
       "\n",
       "   FLAG_MOBIL  FLAG_WORK_PHONE  FLAG_PHONE  FLAG_EMAIL OCCUPATION_TYPE  \\\n",
       "0           1                1           0           0             NaN   \n",
       "1           1                1           0           0             NaN   \n",
       "2           1                0           0           0  Security staff   \n",
       "3           1                0           1           1     Sales staff   \n",
       "4           1                0           1           1     Sales staff   \n",
       "\n",
       "   CNT_FAM_MEMBERS  \n",
       "0              2.0  \n",
       "1              2.0  \n",
       "2              2.0  \n",
       "3              1.0  \n",
       "4              1.0  "
      ],
      "text/html": [
       "<div>\n",
       "<style scoped>\n",
       "    .dataframe tbody tr th:only-of-type {\n",
       "        vertical-align: middle;\n",
       "    }\n",
       "\n",
       "    .dataframe tbody tr th {\n",
       "        vertical-align: top;\n",
       "    }\n",
       "\n",
       "    .dataframe thead th {\n",
       "        text-align: right;\n",
       "    }\n",
       "</style>\n",
       "<table border=\"1\" class=\"dataframe\">\n",
       "  <thead>\n",
       "    <tr style=\"text-align: right;\">\n",
       "      <th></th>\n",
       "      <th>ID</th>\n",
       "      <th>CODE_GENDER</th>\n",
       "      <th>FLAG_OWN_CAR</th>\n",
       "      <th>FLAG_OWN_REALTY</th>\n",
       "      <th>CNT_CHILDREN</th>\n",
       "      <th>AMT_INCOME_TOTAL</th>\n",
       "      <th>NAME_INCOME_TYPE</th>\n",
       "      <th>NAME_EDUCATION_TYPE</th>\n",
       "      <th>NAME_FAMILY_STATUS</th>\n",
       "      <th>NAME_HOUSING_TYPE</th>\n",
       "      <th>DAYS_BIRTH</th>\n",
       "      <th>DAYS_EMPLOYED</th>\n",
       "      <th>FLAG_MOBIL</th>\n",
       "      <th>FLAG_WORK_PHONE</th>\n",
       "      <th>FLAG_PHONE</th>\n",
       "      <th>FLAG_EMAIL</th>\n",
       "      <th>OCCUPATION_TYPE</th>\n",
       "      <th>CNT_FAM_MEMBERS</th>\n",
       "    </tr>\n",
       "  </thead>\n",
       "  <tbody>\n",
       "    <tr>\n",
       "      <th>0</th>\n",
       "      <td>5008804</td>\n",
       "      <td>M</td>\n",
       "      <td>Y</td>\n",
       "      <td>Y</td>\n",
       "      <td>0</td>\n",
       "      <td>427500.0</td>\n",
       "      <td>Working</td>\n",
       "      <td>Higher education</td>\n",
       "      <td>Civil marriage</td>\n",
       "      <td>Rented apartment</td>\n",
       "      <td>-12005</td>\n",
       "      <td>-4542</td>\n",
       "      <td>1</td>\n",
       "      <td>1</td>\n",
       "      <td>0</td>\n",
       "      <td>0</td>\n",
       "      <td>NaN</td>\n",
       "      <td>2.0</td>\n",
       "    </tr>\n",
       "    <tr>\n",
       "      <th>1</th>\n",
       "      <td>5008805</td>\n",
       "      <td>M</td>\n",
       "      <td>Y</td>\n",
       "      <td>Y</td>\n",
       "      <td>0</td>\n",
       "      <td>427500.0</td>\n",
       "      <td>Working</td>\n",
       "      <td>Higher education</td>\n",
       "      <td>Civil marriage</td>\n",
       "      <td>Rented apartment</td>\n",
       "      <td>-12005</td>\n",
       "      <td>-4542</td>\n",
       "      <td>1</td>\n",
       "      <td>1</td>\n",
       "      <td>0</td>\n",
       "      <td>0</td>\n",
       "      <td>NaN</td>\n",
       "      <td>2.0</td>\n",
       "    </tr>\n",
       "    <tr>\n",
       "      <th>2</th>\n",
       "      <td>5008806</td>\n",
       "      <td>M</td>\n",
       "      <td>Y</td>\n",
       "      <td>Y</td>\n",
       "      <td>0</td>\n",
       "      <td>112500.0</td>\n",
       "      <td>Working</td>\n",
       "      <td>Secondary / secondary special</td>\n",
       "      <td>Married</td>\n",
       "      <td>House / apartment</td>\n",
       "      <td>-21474</td>\n",
       "      <td>-1134</td>\n",
       "      <td>1</td>\n",
       "      <td>0</td>\n",
       "      <td>0</td>\n",
       "      <td>0</td>\n",
       "      <td>Security staff</td>\n",
       "      <td>2.0</td>\n",
       "    </tr>\n",
       "    <tr>\n",
       "      <th>3</th>\n",
       "      <td>5008808</td>\n",
       "      <td>F</td>\n",
       "      <td>N</td>\n",
       "      <td>Y</td>\n",
       "      <td>0</td>\n",
       "      <td>270000.0</td>\n",
       "      <td>Commercial associate</td>\n",
       "      <td>Secondary / secondary special</td>\n",
       "      <td>Single / not married</td>\n",
       "      <td>House / apartment</td>\n",
       "      <td>-19110</td>\n",
       "      <td>-3051</td>\n",
       "      <td>1</td>\n",
       "      <td>0</td>\n",
       "      <td>1</td>\n",
       "      <td>1</td>\n",
       "      <td>Sales staff</td>\n",
       "      <td>1.0</td>\n",
       "    </tr>\n",
       "    <tr>\n",
       "      <th>4</th>\n",
       "      <td>5008809</td>\n",
       "      <td>F</td>\n",
       "      <td>N</td>\n",
       "      <td>Y</td>\n",
       "      <td>0</td>\n",
       "      <td>270000.0</td>\n",
       "      <td>Commercial associate</td>\n",
       "      <td>Secondary / secondary special</td>\n",
       "      <td>Single / not married</td>\n",
       "      <td>House / apartment</td>\n",
       "      <td>-19110</td>\n",
       "      <td>-3051</td>\n",
       "      <td>1</td>\n",
       "      <td>0</td>\n",
       "      <td>1</td>\n",
       "      <td>1</td>\n",
       "      <td>Sales staff</td>\n",
       "      <td>1.0</td>\n",
       "    </tr>\n",
       "  </tbody>\n",
       "</table>\n",
       "</div>"
      ]
     },
     "execution_count": 78,
     "metadata": {},
     "output_type": "execute_result"
    }
   ],
   "execution_count": 78
  },
  {
   "metadata": {
    "ExecuteTime": {
     "end_time": "2025-06-10T11:00:33.510679Z",
     "start_time": "2025-06-10T11:00:33.508422Z"
    }
   },
   "cell_type": "code",
   "source": "applications.shape",
   "id": "6e643d815f1c1a0a",
   "outputs": [
    {
     "data": {
      "text/plain": [
       "(438557, 18)"
      ]
     },
     "execution_count": 79,
     "metadata": {},
     "output_type": "execute_result"
    }
   ],
   "execution_count": 79
  },
  {
   "metadata": {},
   "cell_type": "markdown",
   "source": "Преобразуем название столбцов",
   "id": "8a69b9ed2ba03ab4"
  },
  {
   "metadata": {
    "ExecuteTime": {
     "end_time": "2025-06-10T11:00:33.553544Z",
     "start_time": "2025-06-10T11:00:33.549545Z"
    }
   },
   "cell_type": "code",
   "source": [
    "applications.rename(columns={\"CODE_GENDER\": \"gender\", \"FLAG_OWN_CAR\": \"f_car\", \"FLAG_OWN_REALTY\": \"f_realty\",\n",
    "                             \"CNT_CHILDREN\": \"cnt_children\", \"AMT_INCOME_TOTAL\": \"total_income\",\n",
    "                             \"NAME_INCOME_TYPE\": \"income_type\", \"NAME_EDUCATION_TYPE\": \"education\",\n",
    "                             \"NAME_FAMILY_STATUS\": \"family_status\", \"NAME_HOUSING_TYPE\": \"housing\",\n",
    "                             \"DAYS_BIRTH\": \"birthday\", \"DAYS_EMPLOYED\": \"employment_days\", \"FLAG_MOBIL\": \"f_mobile\", \"FLAG_WORK_PHONE\": \"f_work_phone\", \"FLAG_PHONE\": \"f_phone\", \"FLAG_EMAIL\": \"f_email\", \"OCCUPATION_TYPE\": \"occupation\", \"CNT_FAM_MEMBERS\": \"cnt_fam_members\"}, inplace=True)"
   ],
   "id": "61a93aba62b09c28",
   "outputs": [],
   "execution_count": 80
  },
  {
   "metadata": {},
   "cell_type": "markdown",
   "source": "Проверим типы данных",
   "id": "2aa68a75a8ddbfd7"
  },
  {
   "metadata": {
    "ExecuteTime": {
     "end_time": "2025-06-10T11:00:33.651047Z",
     "start_time": "2025-06-10T11:00:33.573620Z"
    }
   },
   "cell_type": "code",
   "source": "applications.info()",
   "id": "8e5bd62b7114e2aa",
   "outputs": [
    {
     "name": "stdout",
     "output_type": "stream",
     "text": [
      "<class 'pandas.core.frame.DataFrame'>\n",
      "RangeIndex: 438557 entries, 0 to 438556\n",
      "Data columns (total 18 columns):\n",
      " #   Column           Non-Null Count   Dtype  \n",
      "---  ------           --------------   -----  \n",
      " 0   ID               438557 non-null  int64  \n",
      " 1   gender           438557 non-null  object \n",
      " 2   f_car            438557 non-null  object \n",
      " 3   f_realty         438557 non-null  object \n",
      " 4   cnt_children     438557 non-null  int64  \n",
      " 5   total_income     438557 non-null  float64\n",
      " 6   income_type      438557 non-null  object \n",
      " 7   education        438557 non-null  object \n",
      " 8   family_status    438557 non-null  object \n",
      " 9   housing          438557 non-null  object \n",
      " 10  birthday         438557 non-null  int64  \n",
      " 11  employment_days  438557 non-null  int64  \n",
      " 12  f_mobile         438557 non-null  int64  \n",
      " 13  f_work_phone     438557 non-null  int64  \n",
      " 14  f_phone          438557 non-null  int64  \n",
      " 15  f_email          438557 non-null  int64  \n",
      " 16  occupation       304354 non-null  object \n",
      " 17  cnt_fam_members  438557 non-null  float64\n",
      "dtypes: float64(2), int64(8), object(8)\n",
      "memory usage: 60.2+ MB\n"
     ]
    }
   ],
   "execution_count": 81
  },
  {
   "metadata": {},
   "cell_type": "markdown",
   "source": "Проверяем пропуски",
   "id": "ac7b296247187a21"
  },
  {
   "metadata": {
    "ExecuteTime": {
     "end_time": "2025-06-10T11:00:33.738151Z",
     "start_time": "2025-06-10T11:00:33.672320Z"
    }
   },
   "cell_type": "code",
   "source": "applications.isnull().sum()",
   "id": "98738b419da18f5c",
   "outputs": [
    {
     "data": {
      "text/plain": [
       "ID                      0\n",
       "gender                  0\n",
       "f_car                   0\n",
       "f_realty                0\n",
       "cnt_children            0\n",
       "total_income            0\n",
       "income_type             0\n",
       "education               0\n",
       "family_status           0\n",
       "housing                 0\n",
       "birthday                0\n",
       "employment_days         0\n",
       "f_mobile                0\n",
       "f_work_phone            0\n",
       "f_phone                 0\n",
       "f_email                 0\n",
       "occupation         134203\n",
       "cnt_fam_members         0\n",
       "dtype: int64"
      ]
     },
     "execution_count": 82,
     "metadata": {},
     "output_type": "execute_result"
    }
   ],
   "execution_count": 82
  },
  {
   "metadata": {},
   "cell_type": "markdown",
   "source": "Начинаем заполнять пропуски при помощи RandomForestClassifier, нам нужно обязательно заполнить occupation, так как это там много пропусков и это кощунство удалять их",
   "id": "fbafb65b56bb97cd"
  },
  {
   "metadata": {
    "ExecuteTime": {
     "end_time": "2025-06-10T11:00:34.176818Z",
     "start_time": "2025-06-10T11:00:34.027882Z"
    }
   },
   "cell_type": "code",
   "source": [
    "columns_o = applications.columns.drop(\"occupation\")\n",
    "known = applications[applications[\"occupation\"].notnull()].copy()\n",
    "unknown = applications[applications[\"occupation\"].isna()].copy()\n",
    "\n",
    "X_known = known[columns_o]\n",
    "y_known = known['occupation']\n",
    "X_unknown = unknown[columns_o]"
   ],
   "id": "76978f026dd4deaf",
   "outputs": [],
   "execution_count": 83
  },
  {
   "metadata": {
    "ExecuteTime": {
     "end_time": "2025-06-10T11:00:34.216139Z",
     "start_time": "2025-06-10T11:00:34.193356Z"
    }
   },
   "cell_type": "code",
   "source": [
    "cat_cols = X_known.select_dtypes(include=['object']).columns.tolist()\n",
    "num_cols = X_known.select_dtypes(include=[np.number]).columns.tolist()"
   ],
   "id": "3e10c6b37e9c1ce8",
   "outputs": [],
   "execution_count": 84
  },
  {
   "metadata": {
    "ExecuteTime": {
     "end_time": "2025-06-10T11:00:34.322005Z",
     "start_time": "2025-06-10T11:00:34.219526Z"
    }
   },
   "cell_type": "code",
   "source": [
    "preprocessor = ColumnTransformer([\n",
    "    ('ohe', OneHotEncoder(handle_unknown='ignore'), cat_cols),\n",
    "], remainder='passthrough')\n",
    "\n",
    "\n",
    "clf = Pipeline([\n",
    "    ('prep', preprocessor),\n",
    "    ('rf', RandomForestClassifier(n_estimators=100, random_state=2005))\n",
    "])"
   ],
   "id": "a107852bb6b21a8",
   "outputs": [],
   "execution_count": 85
  },
  {
   "metadata": {
    "ExecuteTime": {
     "end_time": "2025-06-10T11:01:05.683805Z",
     "start_time": "2025-06-10T11:00:34.343251Z"
    }
   },
   "cell_type": "code",
   "source": [
    "clf.fit(X_known, y_known)\n",
    "preds = clf.predict(X_unknown)"
   ],
   "id": "9844b43ad90a049f",
   "outputs": [],
   "execution_count": 86
  },
  {
   "metadata": {
    "ExecuteTime": {
     "end_time": "2025-06-10T11:01:05.761133Z",
     "start_time": "2025-06-10T11:01:05.743241Z"
    }
   },
   "cell_type": "code",
   "source": "applications.loc[applications['occupation'].isna(), \"occupation\"] = preds",
   "id": "405a3e6f0729389e",
   "outputs": [],
   "execution_count": 87
  },
  {
   "metadata": {
    "ExecuteTime": {
     "end_time": "2025-06-10T11:01:05.839493Z",
     "start_time": "2025-06-10T11:01:05.763601Z"
    }
   },
   "cell_type": "code",
   "source": "applications.isnull().sum()",
   "id": "ada99499c171132d",
   "outputs": [
    {
     "data": {
      "text/plain": [
       "ID                 0\n",
       "gender             0\n",
       "f_car              0\n",
       "f_realty           0\n",
       "cnt_children       0\n",
       "total_income       0\n",
       "income_type        0\n",
       "education          0\n",
       "family_status      0\n",
       "housing            0\n",
       "birthday           0\n",
       "employment_days    0\n",
       "f_mobile           0\n",
       "f_work_phone       0\n",
       "f_phone            0\n",
       "f_email            0\n",
       "occupation         0\n",
       "cnt_fam_members    0\n",
       "dtype: int64"
      ]
     },
     "execution_count": 88,
     "metadata": {},
     "output_type": "execute_result"
    }
   ],
   "execution_count": 88
  },
  {
   "metadata": {
    "ExecuteTime": {
     "end_time": "2025-06-10T11:01:05.894945Z",
     "start_time": "2025-06-10T11:01:05.880640Z"
    }
   },
   "cell_type": "code",
   "source": "applications.duplicated(subset=['ID']).sum()",
   "id": "da828417256e5f20",
   "outputs": [
    {
     "data": {
      "text/plain": [
       "np.int64(47)"
      ]
     },
     "execution_count": 89,
     "metadata": {},
     "output_type": "execute_result"
    }
   ],
   "execution_count": 89
  },
  {
   "metadata": {
    "ExecuteTime": {
     "end_time": "2025-06-10T11:01:06.024903Z",
     "start_time": "2025-06-10T11:01:05.974467Z"
    }
   },
   "cell_type": "code",
   "source": "applications = applications.drop_duplicates(subset=['ID'])",
   "id": "17bdab1a9e9a5e4b",
   "outputs": [],
   "execution_count": 90
  }
 ],
 "metadata": {
  "kernelspec": {
   "display_name": "Python 3",
   "language": "python",
   "name": "python3"
  },
  "language_info": {
   "codemirror_mode": {
    "name": "ipython",
    "version": 2
   },
   "file_extension": ".py",
   "mimetype": "text/x-python",
   "name": "python",
   "nbconvert_exporter": "python",
   "pygments_lexer": "ipython2",
   "version": "2.7.6"
  }
 },
 "nbformat": 4,
 "nbformat_minor": 5
}
