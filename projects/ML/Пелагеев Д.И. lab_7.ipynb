{
 "cells": [
  {
   "metadata": {},
   "cell_type": "markdown",
   "source": [
    "# Лабораторная работа №7\n",
    "## Выполнил: Пелагеев Даниил Иванович Б9122-01.03.02мкт"
   ],
   "id": "4319cf73b7f797aa"
  },
  {
   "metadata": {},
   "cell_type": "markdown",
   "source": "В этой лабораторной работе мы будем применять методы множественной линейной регрессии к датасету **seeds_dataset.txt**. Цель состоит в том, чтобы предсказать площадь зерна (**Area**) на основе остальных параметров. Мы также визуализируем результаты с помощью графиков линейной регрессии и обсудим дополнительные аспекты модели.",
   "id": "df48c71b8074f3bd"
  },
  {
   "metadata": {
    "ExecuteTime": {
     "end_time": "2025-05-06T10:58:54.509940Z",
     "start_time": "2025-05-06T10:58:53.635970Z"
    }
   },
   "cell_type": "code",
   "source": [
    "import numpy as np\n",
    "import pandas as pd\n",
    "import seaborn as sns\n",
    "import statsmodels.api as sm\n",
    "import matplotlib.pyplot as plt\n",
    "from sklearn.model_selection import train_test_split\n",
    "from sklearn.model_selection import cross_val_score\n",
    "from sklearn.compose import ColumnTransformer\n",
    "from sklearn.linear_model import LinearRegression\n",
    "from sklearn.preprocessing import LabelEncoder, OneHotEncoder"
   ],
   "id": "794a5d75ffe20b09",
   "outputs": [],
   "execution_count": 1
  },
  {
   "metadata": {
    "ExecuteTime": {
     "end_time": "2025-05-06T10:58:54.608778Z",
     "start_time": "2025-05-06T10:58:54.578444Z"
    }
   },
   "cell_type": "code",
   "source": [
    "data = 'datasets/seeds_dataset.txt'\n",
    "columns = ['Area', 'Perimeter', 'Compactness', 'Length of kernel', 'Width of kernel',\n",
    "           'Asymmetry coefficient', 'Length of kernel groove', 'Class']\n",
    "\n",
    "df = pd.read_csv(data, sep='\\t', names=columns)\n",
    "print('Размерность датасета:', df.shape, end='\\n\\n')\n",
    "df.head(10)"
   ],
   "id": "a218f4b1c0db9217",
   "outputs": [
    {
     "name": "stdout",
     "output_type": "stream",
     "text": [
      "Размерность датасета: (210, 8)\n",
      "\n"
     ]
    },
    {
     "data": {
      "text/plain": [
       "    Area  Perimeter  Compactness  Length of kernel  Width of kernel  \\\n",
       "0  15.26      14.84       0.8710             5.763            3.312   \n",
       "1  14.88      14.57       0.8811             5.554            3.333   \n",
       "2  14.29      14.09       0.9050             5.291            3.337   \n",
       "3  13.84      13.94       0.8955             5.324            3.379   \n",
       "4  16.14      14.99       0.9034             5.658            3.562   \n",
       "5  14.38      14.21       0.8951             5.386            3.312   \n",
       "6  14.69      14.49       0.8799             5.563            3.259   \n",
       "7  14.11      14.10       0.8911             5.420            3.302   \n",
       "8  16.63      15.46       0.8747             6.053            3.465   \n",
       "9  16.44      15.25       0.8880             5.884            3.505   \n",
       "\n",
       "   Asymmetry coefficient  Length of kernel groove  Class  \n",
       "0                  2.221                    5.220      1  \n",
       "1                  1.018                    4.956      1  \n",
       "2                  2.699                    4.825      1  \n",
       "3                  2.259                    4.805      1  \n",
       "4                  1.355                    5.175      1  \n",
       "5                  2.462                    4.956      1  \n",
       "6                  3.586                    5.219      1  \n",
       "7                  2.700                    5.000      1  \n",
       "8                  2.040                    5.877      1  \n",
       "9                  1.969                    5.533      1  "
      ],
      "text/html": [
       "<div>\n",
       "<style scoped>\n",
       "    .dataframe tbody tr th:only-of-type {\n",
       "        vertical-align: middle;\n",
       "    }\n",
       "\n",
       "    .dataframe tbody tr th {\n",
       "        vertical-align: top;\n",
       "    }\n",
       "\n",
       "    .dataframe thead th {\n",
       "        text-align: right;\n",
       "    }\n",
       "</style>\n",
       "<table border=\"1\" class=\"dataframe\">\n",
       "  <thead>\n",
       "    <tr style=\"text-align: right;\">\n",
       "      <th></th>\n",
       "      <th>Area</th>\n",
       "      <th>Perimeter</th>\n",
       "      <th>Compactness</th>\n",
       "      <th>Length of kernel</th>\n",
       "      <th>Width of kernel</th>\n",
       "      <th>Asymmetry coefficient</th>\n",
       "      <th>Length of kernel groove</th>\n",
       "      <th>Class</th>\n",
       "    </tr>\n",
       "  </thead>\n",
       "  <tbody>\n",
       "    <tr>\n",
       "      <th>0</th>\n",
       "      <td>15.26</td>\n",
       "      <td>14.84</td>\n",
       "      <td>0.8710</td>\n",
       "      <td>5.763</td>\n",
       "      <td>3.312</td>\n",
       "      <td>2.221</td>\n",
       "      <td>5.220</td>\n",
       "      <td>1</td>\n",
       "    </tr>\n",
       "    <tr>\n",
       "      <th>1</th>\n",
       "      <td>14.88</td>\n",
       "      <td>14.57</td>\n",
       "      <td>0.8811</td>\n",
       "      <td>5.554</td>\n",
       "      <td>3.333</td>\n",
       "      <td>1.018</td>\n",
       "      <td>4.956</td>\n",
       "      <td>1</td>\n",
       "    </tr>\n",
       "    <tr>\n",
       "      <th>2</th>\n",
       "      <td>14.29</td>\n",
       "      <td>14.09</td>\n",
       "      <td>0.9050</td>\n",
       "      <td>5.291</td>\n",
       "      <td>3.337</td>\n",
       "      <td>2.699</td>\n",
       "      <td>4.825</td>\n",
       "      <td>1</td>\n",
       "    </tr>\n",
       "    <tr>\n",
       "      <th>3</th>\n",
       "      <td>13.84</td>\n",
       "      <td>13.94</td>\n",
       "      <td>0.8955</td>\n",
       "      <td>5.324</td>\n",
       "      <td>3.379</td>\n",
       "      <td>2.259</td>\n",
       "      <td>4.805</td>\n",
       "      <td>1</td>\n",
       "    </tr>\n",
       "    <tr>\n",
       "      <th>4</th>\n",
       "      <td>16.14</td>\n",
       "      <td>14.99</td>\n",
       "      <td>0.9034</td>\n",
       "      <td>5.658</td>\n",
       "      <td>3.562</td>\n",
       "      <td>1.355</td>\n",
       "      <td>5.175</td>\n",
       "      <td>1</td>\n",
       "    </tr>\n",
       "    <tr>\n",
       "      <th>5</th>\n",
       "      <td>14.38</td>\n",
       "      <td>14.21</td>\n",
       "      <td>0.8951</td>\n",
       "      <td>5.386</td>\n",
       "      <td>3.312</td>\n",
       "      <td>2.462</td>\n",
       "      <td>4.956</td>\n",
       "      <td>1</td>\n",
       "    </tr>\n",
       "    <tr>\n",
       "      <th>6</th>\n",
       "      <td>14.69</td>\n",
       "      <td>14.49</td>\n",
       "      <td>0.8799</td>\n",
       "      <td>5.563</td>\n",
       "      <td>3.259</td>\n",
       "      <td>3.586</td>\n",
       "      <td>5.219</td>\n",
       "      <td>1</td>\n",
       "    </tr>\n",
       "    <tr>\n",
       "      <th>7</th>\n",
       "      <td>14.11</td>\n",
       "      <td>14.10</td>\n",
       "      <td>0.8911</td>\n",
       "      <td>5.420</td>\n",
       "      <td>3.302</td>\n",
       "      <td>2.700</td>\n",
       "      <td>5.000</td>\n",
       "      <td>1</td>\n",
       "    </tr>\n",
       "    <tr>\n",
       "      <th>8</th>\n",
       "      <td>16.63</td>\n",
       "      <td>15.46</td>\n",
       "      <td>0.8747</td>\n",
       "      <td>6.053</td>\n",
       "      <td>3.465</td>\n",
       "      <td>2.040</td>\n",
       "      <td>5.877</td>\n",
       "      <td>1</td>\n",
       "    </tr>\n",
       "    <tr>\n",
       "      <th>9</th>\n",
       "      <td>16.44</td>\n",
       "      <td>15.25</td>\n",
       "      <td>0.8880</td>\n",
       "      <td>5.884</td>\n",
       "      <td>3.505</td>\n",
       "      <td>1.969</td>\n",
       "      <td>5.533</td>\n",
       "      <td>1</td>\n",
       "    </tr>\n",
       "  </tbody>\n",
       "</table>\n",
       "</div>"
      ]
     },
     "execution_count": 2,
     "metadata": {},
     "output_type": "execute_result"
    }
   ],
   "execution_count": 2
  },
  {
   "metadata": {
    "ExecuteTime": {
     "end_time": "2025-05-06T10:58:54.641620Z",
     "start_time": "2025-05-06T10:58:54.629689Z"
    }
   },
   "cell_type": "code",
   "source": [
    "df.info()\n",
    "df = df.dropna()  # Чистим наш датасет от na\n",
    "print('Размерность датасета после чистки:', df.shape, end='\\n\\n')"
   ],
   "id": "f33ac2e0e2b55102",
   "outputs": [
    {
     "name": "stdout",
     "output_type": "stream",
     "text": [
      "<class 'pandas.core.frame.DataFrame'>\n",
      "RangeIndex: 210 entries, 0 to 209\n",
      "Data columns (total 8 columns):\n",
      " #   Column                   Non-Null Count  Dtype  \n",
      "---  ------                   --------------  -----  \n",
      " 0   Area                     210 non-null    float64\n",
      " 1   Perimeter                210 non-null    float64\n",
      " 2   Compactness              210 non-null    float64\n",
      " 3   Length of kernel         210 non-null    float64\n",
      " 4   Width of kernel          210 non-null    float64\n",
      " 5   Asymmetry coefficient    210 non-null    float64\n",
      " 6   Length of kernel groove  210 non-null    float64\n",
      " 7   Class                    210 non-null    int64  \n",
      "dtypes: float64(7), int64(1)\n",
      "memory usage: 13.3 KB\n",
      "Размерность датасета после чистки: (210, 8)\n",
      "\n"
     ]
    }
   ],
   "execution_count": 3
  },
  {
   "metadata": {},
   "cell_type": "markdown",
   "source": "Результатом этого блока кода является очистка датасета, но как видим размерность до чистки и после никак не изменилась",
   "id": "a879ed99e3f62c2b"
  },
  {
   "metadata": {
    "ExecuteTime": {
     "end_time": "2025-05-06T10:58:54.898887Z",
     "start_time": "2025-05-06T10:58:54.890968Z"
    }
   },
   "cell_type": "code",
   "source": [
    "X = df.iloc[:, 1:].values\n",
    "y = df.iloc[:, 0].values\n",
    "\n",
    "print(\"Матрица признаков:\")\n",
    "print(X[:5])\n",
    "print(\"\\nЗависимая переменная:\")\n",
    "print(y[:5])"
   ],
   "id": "24f49d39ca76079a",
   "outputs": [
    {
     "name": "stdout",
     "output_type": "stream",
     "text": [
      "Матрица признаков:\n",
      "[[14.84    0.871   5.763   3.312   2.221   5.22    1.    ]\n",
      " [14.57    0.8811  5.554   3.333   1.018   4.956   1.    ]\n",
      " [14.09    0.905   5.291   3.337   2.699   4.825   1.    ]\n",
      " [13.94    0.8955  5.324   3.379   2.259   4.805   1.    ]\n",
      " [14.99    0.9034  5.658   3.562   1.355   5.175   1.    ]]\n",
      "\n",
      "Зависимая переменная:\n",
      "[15.26 14.88 14.29 13.84 16.14]\n"
     ]
    }
   ],
   "execution_count": 4
  },
  {
   "metadata": {},
   "cell_type": "markdown",
   "source": [
    "В этом блоке мы разделяем данные на **матрицу признаков** и **зависимую переменную**:\n",
    "1. **Матрица признаков (`X`)**:\n",
    "   - Используется `df.iloc[:, 1:].values` для выбора всех столбцов, кроме первого (`'Area'`).\n",
    "2. **Зависимая переменная (`y`)**:\n",
    "   - Используется `df.iloc[:, 0].values` для выбора первого столбца (`'Area'`)."
   ],
   "id": "5377faeca2b1f8cd"
  },
  {
   "metadata": {
    "ExecuteTime": {
     "end_time": "2025-05-06T10:58:55.163724Z",
     "start_time": "2025-05-06T10:58:54.959034Z"
    }
   },
   "cell_type": "code",
   "source": [
    "# Построение корреляционной матрицы\n",
    "corr_matrix = df.drop('Area', axis=1).corr()\n",
    "\n",
    "plt.figure(figsize=(10, 8))\n",
    "sns.heatmap(corr_matrix, annot=True, cmap='coolwarm')\n",
    "plt.title('Матрица корреляций признаков')\n",
    "plt.show()"
   ],
   "id": "f682b2421bc60d94",
   "outputs": [
    {
     "data": {
      "text/plain": [
       "<Figure size 1000x800 with 2 Axes>"
      ],
      "image/png": "[encoded data removed]"
     },
     "metadata": {},
     "output_type": "display_data"
    }
   ],
   "execution_count": 5
  },
  {
   "metadata": {},
   "cell_type": "markdown",
   "source": [
    "Этот анализ помогает выявить признаки, которые могут быть избыточными или сильно взаимосвязаны, что важно для оптимизации модели.\n",
    "\n",
    "**Анализ**:\n",
    "- **Высокие корреляции** между признаками могут привести к мультиколлинеарности, что ухудшает стабильность и интерпретируемость модели.\n",
    "- **Низкие корреляции** указывают на независимость признаков, что предпочтительно для моделей линейной регрессии.\n"
   ],
   "id": "acaaa95f4c88fb9f"
  },
  {
   "metadata": {
    "ExecuteTime": {
     "end_time": "2025-05-06T10:58:55.300920Z",
     "start_time": "2025-05-06T10:58:55.287064Z"
    }
   },
   "cell_type": "code",
   "source": [
    "labelencoder_X = LabelEncoder()\n",
    "X[:, -1] = labelencoder_X.fit_transform(X[:, -1])\n",
    "\n",
    "# Применение OneHotEncoder\n",
    "ct = ColumnTransformer([(\"Class\", OneHotEncoder(), [-1])], remainder='passthrough')\n",
    "X = ct.fit_transform(X)\n",
    "\n",
    "# Избегаем ловушки фиктивных переменных\n",
    "X = X[:, 1:]\n",
    "\n",
    "print(\"Матрица признаков после кодирования категориального признака 'Class':\")\n",
    "print(X[:5])\n"
   ],
   "id": "ca42025ae3a0c227",
   "outputs": [
    {
     "name": "stdout",
     "output_type": "stream",
     "text": [
      "Матрица признаков после кодирования категориального признака 'Class':\n",
      "[[ 0.      0.     14.84    0.871   5.763   3.312   2.221   5.22  ]\n",
      " [ 0.      0.     14.57    0.8811  5.554   3.333   1.018   4.956 ]\n",
      " [ 0.      0.     14.09    0.905   5.291   3.337   2.699   4.825 ]\n",
      " [ 0.      0.     13.94    0.8955  5.324   3.379   2.259   4.805 ]\n",
      " [ 0.      0.     14.99    0.9034  5.658   3.562   1.355   5.175 ]]\n"
     ]
    }
   ],
   "execution_count": 6
  },
  {
   "metadata": {},
   "cell_type": "markdown",
   "source": "Этот блок выполняет кодирование категориального признака **'Class'** для преобразования его в числовой формат, так как столбец **'Class'** является категориальным признаком, необходимо преобразовать его в числовой формат, что необходимо для обучения модели машинного обучения.",
   "id": "fee1b60e25c0de41"
  },
  {
   "metadata": {
    "ExecuteTime": {
     "end_time": "2025-05-06T10:58:55.367178Z",
     "start_time": "2025-05-06T10:58:55.350737Z"
    }
   },
   "cell_type": "code",
   "source": [
    "X_train, X_test, y_train, y_test = train_test_split(X, y, test_size=0.2, random_state=0)\n",
    "\n",
    "print(\"Размер тренировочной выборки:\", X_train.shape)\n",
    "print(\"Размер тестовой выборки:\", X_test.shape)"
   ],
   "id": "ab19ce9141e09bea",
   "outputs": [
    {
     "name": "stdout",
     "output_type": "stream",
     "text": [
      "Размер тренировочной выборки: (168, 8)\n",
      "Размер тестовой выборки: (42, 8)\n"
     ]
    }
   ],
   "execution_count": 7
  },
  {
   "metadata": {},
   "cell_type": "markdown",
   "source": "В этом блоке выполняем разделение данных на **тренировочную** и **тестовую** выборки",
   "id": "263f09fd0cc89bf1"
  },
  {
   "metadata": {
    "ExecuteTime": {
     "end_time": "2025-05-06T10:58:55.429588Z",
     "start_time": "2025-05-06T10:58:55.396916Z"
    }
   },
   "cell_type": "code",
   "source": [
    "regressor = LinearRegression()\n",
    "regressor.fit(X_train, y_train)\n",
    "\n",
    "regressor"
   ],
   "id": "89487c9b7bb12958",
   "outputs": [
    {
     "data": {
      "text/plain": [
       "LinearRegression()"
      ],
      "text/html": [
       "<style>#sk-container-id-1 {\n",
       "  /* Definition of color scheme common for light and dark mode */\n",
       "  --sklearn-color-text: #000;\n",
       "  --sklearn-color-text-muted: #666;\n",
       "  --sklearn-color-line: gray;\n",
       "  /* Definition of color scheme for unfitted estimators */\n",
       "  --sklearn-color-unfitted-level-0: #fff5e6;\n",
       "  --sklearn-color-unfitted-level-1: #f6e4d2;\n",
       "  --sklearn-color-unfitted-level-2: #ffe0b3;\n",
       "  --sklearn-color-unfitted-level-3: chocolate;\n",
       "  /* Definition of color scheme for fitted estimators */\n",
       "  --sklearn-color-fitted-level-0: #f0f8ff;\n",
       "  --sklearn-color-fitted-level-1: #d4ebff;\n",
       "  --sklearn-color-fitted-level-2: #b3dbfd;\n",
       "  --sklearn-color-fitted-level-3: cornflowerblue;\n",
       "\n",
       "  /* Specific color for light theme */\n",
       "  --sklearn-color-text-on-default-background: var(--sg-text-color, var(--theme-code-foreground, var(--jp-content-font-color1, black)));\n",
       "  --sklearn-color-background: var(--sg-background-color, var(--theme-background, var(--jp-layout-color0, white)));\n",
       "  --sklearn-color-border-box: var(--sg-text-color, var(--theme-code-foreground, var(--jp-content-font-color1, black)));\n",
       "  --sklearn-color-icon: #696969;\n",
       "\n",
       "  @media (prefers-color-scheme: dark) {\n",
       "    /* Redefinition of color scheme for dark theme */\n",
       "    --sklearn-color-text-on-default-background: var(--sg-text-color, var(--theme-code-foreground, var(--jp-content-font-color1, white)));\n",
       "    --sklearn-color-background: var(--sg-background-color, var(--theme-background, var(--jp-layout-color0, #111)));\n",
       "    --sklearn-color-border-box: var(--sg-text-color, var(--theme-code-foreground, var(--jp-content-font-color1, white)));\n",
       "    --sklearn-color-icon: #878787;\n",
       "  }\n",
       "}\n",
       "\n",
       "#sk-container-id-1 {\n",
       "  color: var(--sklearn-color-text);\n",
       "}\n",
       "\n",
       "#sk-container-id-1 pre {\n",
       "  padding: 0;\n",
       "}\n",
       "\n",
       "#sk-container-id-1 input.sk-hidden--visually {\n",
       "  border: 0;\n",
       "  clip: rect(1px 1px 1px 1px);\n",
       "  clip: rect(1px, 1px, 1px, 1px);\n",
       "  height: 1px;\n",
       "  margin: -1px;\n",
       "  overflow: hidden;\n",
       "  padding: 0;\n",
       "  position: absolute;\n",
       "  width: 1px;\n",
       "}\n",
       "\n",
       "#sk-container-id-1 div.sk-dashed-wrapped {\n",
       "  border: 1px dashed var(--sklearn-color-line);\n",
       "  margin: 0 0.4em 0.5em 0.4em;\n",
       "  box-sizing: border-box;\n",
       "  padding-bottom: 0.4em;\n",
       "  background-color: var(--sklearn-color-background);\n",
       "}\n",
       "\n",
       "#sk-container-id-1 div.sk-container {\n",
       "  /* jupyter's `normalize.less` sets `[hidden] { display: none; }`\n",
       "     but bootstrap.min.css set `[hidden] { display: none !important; }`\n",
       "     so we also need the `!important` here to be able to override the\n",
       "     default hidden behavior on the sphinx rendered scikit-learn.org.\n",
       "     See: https://github.com/scikit-learn/scikit-learn/issues/21755 */\n",
       "  display: inline-block !important;\n",
       "  position: relative;\n",
       "}\n",
       "\n",
       "#sk-container-id-1 div.sk-text-repr-fallback {\n",
       "  display: none;\n",
       "}\n",
       "\n",
       "div.sk-parallel-item,\n",
       "div.sk-serial,\n",
       "div.sk-item {\n",
       "  /* draw centered vertical line to link estimators */\n",
       "  background-image: linear-gradient(var(--sklearn-color-text-on-default-background), var(--sklearn-color-text-on-default-background));\n",
       "  background-size: 2px 100%;\n",
       "  background-repeat: no-repeat;\n",
       "  background-position: center center;\n",
       "}\n",
       "\n",
       "/* Parallel-specific style estimator block */\n",
       "\n",
       "#sk-container-id-1 div.sk-parallel-item::after {\n",
       "  content: \"\";\n",
       "  width: 100%;\n",
       "  border-bottom: 2px solid var(--sklearn-color-text-on-default-background);\n",
       "  flex-grow: 1;\n",
       "}\n",
       "\n",
       "#sk-container-id-1 div.sk-parallel {\n",
       "  display: flex;\n",
       "  align-items: stretch;\n",
       "  justify-content: center;\n",
       "  background-color: var(--sklearn-color-background);\n",
       "  position: relative;\n",
       "}\n",
       "\n",
       "#sk-container-id-1 div.sk-parallel-item {\n",
       "  display: flex;\n",
       "  flex-direction: column;\n",
       "}\n",
       "\n",
       "#sk-container-id-1 div.sk-parallel-item:first-child::after {\n",
       "  align-self: flex-end;\n",
       "  width: 50%;\n",
       "}\n",
       "\n",
       "#sk-container-id-1 div.sk-parallel-item:last-child::after {\n",
       "  align-self: flex-start;\n",
       "  width: 50%;\n",
       "}\n",
       "\n",
       "#sk-container-id-1 div.sk-parallel-item:only-child::after {\n",
       "  width: 0;\n",
       "}\n",
       "\n",
       "/* Serial-specific style estimator block */\n",
       "\n",
       "#sk-container-id-1 div.sk-serial {\n",
       "  display: flex;\n",
       "  flex-direction: column;\n",
       "  align-items: center;\n",
       "  background-color: var(--sklearn-color-background);\n",
       "  padding-right: 1em;\n",
       "  padding-left: 1em;\n",
       "}\n",
       "\n",
       "\n",
       "/* Toggleable style: style used for estimator/Pipeline/ColumnTransformer box that is\n",
       "clickable and can be expanded/collapsed.\n",
       "- Pipeline and ColumnTransformer use this feature and define the default style\n",
       "- Estimators will overwrite some part of the style using the `sk-estimator` class\n",
       "*/\n",
       "\n",
       "/* Pipeline and ColumnTransformer style (default) */\n",
       "\n",
       "#sk-container-id-1 div.sk-toggleable {\n",
       "  /* Default theme specific background. It is overwritten whether we have a\n",
       "  specific estimator or a Pipeline/ColumnTransformer */\n",
       "  background-color: var(--sklearn-color-background);\n",
       "}\n",
       "\n",
       "/* Toggleable label */\n",
       "#sk-container-id-1 label.sk-toggleable__label {\n",
       "  cursor: pointer;\n",
       "  display: flex;\n",
       "  width: 100%;\n",
       "  margin-bottom: 0;\n",
       "  padding: 0.5em;\n",
       "  box-sizing: border-box;\n",
       "  text-align: center;\n",
       "  align-items: start;\n",
       "  justify-content: space-between;\n",
       "  gap: 0.5em;\n",
       "}\n",
       "\n",
       "#sk-container-id-1 label.sk-toggleable__label .caption {\n",
       "  font-size: 0.6rem;\n",
       "  font-weight: lighter;\n",
       "  color: var(--sklearn-color-text-muted);\n",
       "}\n",
       "\n",
       "#sk-container-id-1 label.sk-toggleable__label-arrow:before {\n",
       "  /* Arrow on the left of the label */\n",
       "  content: \"▸\";\n",
       "  float: left;\n",
       "  margin-right: 0.25em;\n",
       "  color: var(--sklearn-color-icon);\n",
       "}\n",
       "\n",
       "#sk-container-id-1 label.sk-toggleable__label-arrow:hover:before {\n",
       "  color: var(--sklearn-color-text);\n",
       "}\n",
       "\n",
       "/* Toggleable content - dropdown */\n",
       "\n",
       "#sk-container-id-1 div.sk-toggleable__content {\n",
       "  max-height: 0;\n",
       "  max-width: 0;\n",
       "  overflow: hidden;\n",
       "  text-align: left;\n",
       "  /* unfitted */\n",
       "  background-color: var(--sklearn-color-unfitted-level-0);\n",
       "}\n",
       "\n",
       "#sk-container-id-1 div.sk-toggleable__content.fitted {\n",
       "  /* fitted */\n",
       "  background-color: var(--sklearn-color-fitted-level-0);\n",
       "}\n",
       "\n",
       "#sk-container-id-1 div.sk-toggleable__content pre {\n",
       "  margin: 0.2em;\n",
       "  border-radius: 0.25em;\n",
       "  color: var(--sklearn-color-text);\n",
       "  /* unfitted */\n",
       "  background-color: var(--sklearn-color-unfitted-level-0);\n",
       "}\n",
       "\n",
       "#sk-container-id-1 div.sk-toggleable__content.fitted pre {\n",
       "  /* unfitted */\n",
       "  background-color: var(--sklearn-color-fitted-level-0);\n",
       "}\n",
       "\n",
       "#sk-container-id-1 input.sk-toggleable__control:checked~div.sk-toggleable__content {\n",
       "  /* Expand drop-down */\n",
       "  max-height: 200px;\n",
       "  max-width: 100%;\n",
       "  overflow: auto;\n",
       "}\n",
       "\n",
       "#sk-container-id-1 input.sk-toggleable__control:checked~label.sk-toggleable__label-arrow:before {\n",
       "  content: \"▾\";\n",
       "}\n",
       "\n",
       "/* Pipeline/ColumnTransformer-specific style */\n",
       "\n",
       "#sk-container-id-1 div.sk-label input.sk-toggleable__control:checked~label.sk-toggleable__label {\n",
       "  color: var(--sklearn-color-text);\n",
       "  background-color: var(--sklearn-color-unfitted-level-2);\n",
       "}\n",
       "\n",
       "#sk-container-id-1 div.sk-label.fitted input.sk-toggleable__control:checked~label.sk-toggleable__label {\n",
       "  background-color: var(--sklearn-color-fitted-level-2);\n",
       "}\n",
       "\n",
       "/* Estimator-specific style */\n",
       "\n",
       "/* Colorize estimator box */\n",
       "#sk-container-id-1 div.sk-estimator input.sk-toggleable__control:checked~label.sk-toggleable__label {\n",
       "  /* unfitted */\n",
       "  background-color: var(--sklearn-color-unfitted-level-2);\n",
       "}\n",
       "\n",
       "#sk-container-id-1 div.sk-estimator.fitted input.sk-toggleable__control:checked~label.sk-toggleable__label {\n",
       "  /* fitted */\n",
       "  background-color: var(--sklearn-color-fitted-level-2);\n",
       "}\n",
       "\n",
       "#sk-container-id-1 div.sk-label label.sk-toggleable__label,\n",
       "#sk-container-id-1 div.sk-label label {\n",
       "  /* The background is the default theme color */\n",
       "  color: var(--sklearn-color-text-on-default-background);\n",
       "}\n",
       "\n",
       "/* On hover, darken the color of the background */\n",
       "#sk-container-id-1 div.sk-label:hover label.sk-toggleable__label {\n",
       "  color: var(--sklearn-color-text);\n",
       "  background-color: var(--sklearn-color-unfitted-level-2);\n",
       "}\n",
       "\n",
       "/* Label box, darken color on hover, fitted */\n",
       "#sk-container-id-1 div.sk-label.fitted:hover label.sk-toggleable__label.fitted {\n",
       "  color: var(--sklearn-color-text);\n",
       "  background-color: var(--sklearn-color-fitted-level-2);\n",
       "}\n",
       "\n",
       "/* Estimator label */\n",
       "\n",
       "#sk-container-id-1 div.sk-label label {\n",
       "  font-family: monospace;\n",
       "  font-weight: bold;\n",
       "  display: inline-block;\n",
       "  line-height: 1.2em;\n",
       "}\n",
       "\n",
       "#sk-container-id-1 div.sk-label-container {\n",
       "  text-align: center;\n",
       "}\n",
       "\n",
       "/* Estimator-specific */\n",
       "#sk-container-id-1 div.sk-estimator {\n",
       "  font-family: monospace;\n",
       "  border: 1px dotted var(--sklearn-color-border-box);\n",
       "  border-radius: 0.25em;\n",
       "  box-sizing: border-box;\n",
       "  margin-bottom: 0.5em;\n",
       "  /* unfitted */\n",
       "  background-color: var(--sklearn-color-unfitted-level-0);\n",
       "}\n",
       "\n",
       "#sk-container-id-1 div.sk-estimator.fitted {\n",
       "  /* fitted */\n",
       "  background-color: var(--sklearn-color-fitted-level-0);\n",
       "}\n",
       "\n",
       "/* on hover */\n",
       "#sk-container-id-1 div.sk-estimator:hover {\n",
       "  /* unfitted */\n",
       "  background-color: var(--sklearn-color-unfitted-level-2);\n",
       "}\n",
       "\n",
       "#sk-container-id-1 div.sk-estimator.fitted:hover {\n",
       "  /* fitted */\n",
       "  background-color: var(--sklearn-color-fitted-level-2);\n",
       "}\n",
       "\n",
       "/* Specification for estimator info (e.g. \"i\" and \"?\") */\n",
       "\n",
       "/* Common style for \"i\" and \"?\" */\n",
       "\n",
       ".sk-estimator-doc-link,\n",
       "a:link.sk-estimator-doc-link,\n",
       "a:visited.sk-estimator-doc-link {\n",
       "  float: right;\n",
       "  font-size: smaller;\n",
       "  line-height: 1em;\n",
       "  font-family: monospace;\n",
       "  background-color: var(--sklearn-color-background);\n",
       "  border-radius: 1em;\n",
       "  height: 1em;\n",
       "  width: 1em;\n",
       "  text-decoration: none !important;\n",
       "  margin-left: 0.5em;\n",
       "  text-align: center;\n",
       "  /* unfitted */\n",
       "  border: var(--sklearn-color-unfitted-level-1) 1pt solid;\n",
       "  color: var(--sklearn-color-unfitted-level-1);\n",
       "}\n",
       "\n",
       ".sk-estimator-doc-link.fitted,\n",
       "a:link.sk-estimator-doc-link.fitted,\n",
       "a:visited.sk-estimator-doc-link.fitted {\n",
       "  /* fitted */\n",
       "  border: var(--sklearn-color-fitted-level-1) 1pt solid;\n",
       "  color: var(--sklearn-color-fitted-level-1);\n",
       "}\n",
       "\n",
       "/* On hover */\n",
       "div.sk-estimator:hover .sk-estimator-doc-link:hover,\n",
       ".sk-estimator-doc-link:hover,\n",
       "div.sk-label-container:hover .sk-estimator-doc-link:hover,\n",
       ".sk-estimator-doc-link:hover {\n",
       "  /* unfitted */\n",
       "  background-color: var(--sklearn-color-unfitted-level-3);\n",
       "  color: var(--sklearn-color-background);\n",
       "  text-decoration: none;\n",
       "}\n",
       "\n",
       "div.sk-estimator.fitted:hover .sk-estimator-doc-link.fitted:hover,\n",
       ".sk-estimator-doc-link.fitted:hover,\n",
       "div.sk-label-container:hover .sk-estimator-doc-link.fitted:hover,\n",
       ".sk-estimator-doc-link.fitted:hover {\n",
       "  /* fitted */\n",
       "  background-color: var(--sklearn-color-fitted-level-3);\n",
       "  color: var(--sklearn-color-background);\n",
       "  text-decoration: none;\n",
       "}\n",
       "\n",
       "/* Span, style for the box shown on hovering the info icon */\n",
       ".sk-estimator-doc-link span {\n",
       "  display: none;\n",
       "  z-index: 9999;\n",
       "  position: relative;\n",
       "  font-weight: normal;\n",
       "  right: .2ex;\n",
       "  padding: .5ex;\n",
       "  margin: .5ex;\n",
       "  width: min-content;\n",
       "  min-width: 20ex;\n",
       "  max-width: 50ex;\n",
       "  color: var(--sklearn-color-text);\n",
       "  box-shadow: 2pt 2pt 4pt #999;\n",
       "  /* unfitted */\n",
       "  background: var(--sklearn-color-unfitted-level-0);\n",
       "  border: .5pt solid var(--sklearn-color-unfitted-level-3);\n",
       "}\n",
       "\n",
       ".sk-estimator-doc-link.fitted span {\n",
       "  /* fitted */\n",
       "  background: var(--sklearn-color-fitted-level-0);\n",
       "  border: var(--sklearn-color-fitted-level-3);\n",
       "}\n",
       "\n",
       ".sk-estimator-doc-link:hover span {\n",
       "  display: block;\n",
       "}\n",
       "\n",
       "/* \"?\"-specific style due to the `<a>` HTML tag */\n",
       "\n",
       "#sk-container-id-1 a.estimator_doc_link {\n",
       "  float: right;\n",
       "  font-size: 1rem;\n",
       "  line-height: 1em;\n",
       "  font-family: monospace;\n",
       "  background-color: var(--sklearn-color-background);\n",
       "  border-radius: 1rem;\n",
       "  height: 1rem;\n",
       "  width: 1rem;\n",
       "  text-decoration: none;\n",
       "  /* unfitted */\n",
       "  color: var(--sklearn-color-unfitted-level-1);\n",
       "  border: var(--sklearn-color-unfitted-level-1) 1pt solid;\n",
       "}\n",
       "\n",
       "#sk-container-id-1 a.estimator_doc_link.fitted {\n",
       "  /* fitted */\n",
       "  border: var(--sklearn-color-fitted-level-1) 1pt solid;\n",
       "  color: var(--sklearn-color-fitted-level-1);\n",
       "}\n",
       "\n",
       "/* On hover */\n",
       "#sk-container-id-1 a.estimator_doc_link:hover {\n",
       "  /* unfitted */\n",
       "  background-color: var(--sklearn-color-unfitted-level-3);\n",
       "  color: var(--sklearn-color-background);\n",
       "  text-decoration: none;\n",
       "}\n",
       "\n",
       "#sk-container-id-1 a.estimator_doc_link.fitted:hover {\n",
       "  /* fitted */\n",
       "  background-color: var(--sklearn-color-fitted-level-3);\n",
       "}\n",
       "</style><div id=\"sk-container-id-1\" class=\"sk-top-container\"><div class=\"sk-text-repr-fallback\"><pre>LinearRegression()</pre><b>In a Jupyter environment, please rerun this cell to show the HTML representation or trust the notebook. <br />On GitHub, the HTML representation is unable to render, please try loading this page with nbviewer.org.</b></div><div class=\"sk-container\" hidden><div class=\"sk-item\"><div class=\"sk-estimator fitted sk-toggleable\"><input class=\"sk-toggleable__control sk-hidden--visually\" id=\"sk-estimator-id-1\" type=\"checkbox\" checked><label for=\"sk-estimator-id-1\" class=\"sk-toggleable__label fitted sk-toggleable__label-arrow\"><div><div>LinearRegression</div></div><div><a class=\"sk-estimator-doc-link fitted\" rel=\"noreferrer\" target=\"_blank\" href=\"https://scikit-learn.org/1.6/modules/generated/sklearn.linear_model.LinearRegression.html\">?<span>Documentation for LinearRegression</span></a><span class=\"sk-estimator-doc-link fitted\">i<span>Fitted</span></span></div></label><div class=\"sk-toggleable__content fitted\"><pre>LinearRegression()</pre></div> </div></div></div></div>"
      ]
     },
     "execution_count": 8,
     "metadata": {},
     "output_type": "execute_result"
    }
   ],
   "execution_count": 8
  },
  {
   "metadata": {
    "ExecuteTime": {
     "end_time": "2025-05-06T10:58:55.511485Z",
     "start_time": "2025-05-06T10:58:55.489777Z"
    }
   },
   "cell_type": "code",
   "source": [
    "scores = cross_val_score(regressor, X, y, scoring='r2', cv=10)\n",
    "print(\"Среднее значение R² при кросс-валидации:\", scores.mean())"
   ],
   "id": "512749c7eca58470",
   "outputs": [
    {
     "name": "stdout",
     "output_type": "stream",
     "text": [
      "Среднее значение R² при кросс-валидации: 0.9845058646507846\n"
     ]
    }
   ],
   "execution_count": 9
  },
  {
   "metadata": {
    "ExecuteTime": {
     "end_time": "2025-05-06T10:58:55.530033Z",
     "start_time": "2025-05-06T10:58:55.518405Z"
    }
   },
   "cell_type": "code",
   "source": [
    "y_pred = regressor.predict(X_test)\n",
    "\n",
    "# Сравнение предсказанных и реальных значений\n",
    "df_pred = pd.DataFrame({'Actual': y_test, 'Predicted': y_pred})\n",
    "print(df_pred.head())\n"
   ],
   "id": "6ae9bdd5980927e5",
   "outputs": [
    {
     "name": "stdout",
     "output_type": "stream",
     "text": [
      "   Actual  Predicted\n",
      "0   13.89  13.854948\n",
      "1   16.53  16.675523\n",
      "2   13.94  13.942327\n",
      "3   14.38  14.396824\n",
      "4   11.23  11.129017\n"
     ]
    }
   ],
   "execution_count": 10
  },
  {
   "metadata": {},
   "cell_type": "markdown",
   "source": [
    "В этом блоке выполняем предсказание и сравнение результатов модели:\n",
    "\n",
    "1. **Предсказание**:\n",
    "   - Метод `predict` используется для предсказания значений зависимой переменной на основе тестовых данных `X_test`.\n",
    "   - Результат сохраняется в переменную `y_pred`.\n",
    "\n",
    "2. **Сравнение предсказанных и реальных значений**:\n",
    "   - Создается DataFrame `df_pred`, содержащий две колонки: реальные значения `Actual` из `y_test` и предсказанные значения `Predicted` из `y_pred`.\n",
    "   - `df_pred.head()` отображает первые 5 строк для предварительного анализа.\n",
    "\n",
    "Этот шаг позволяет оценить, насколько хорошо модель способна предсказывать новые данные, сравнивая её предсказания с реальными значениями."
   ],
   "id": "49dbe8701cd209a3"
  },
  {
   "metadata": {
    "ExecuteTime": {
     "end_time": "2025-05-06T10:58:56.045725Z",
     "start_time": "2025-05-06T10:58:55.636344Z"
    }
   },
   "cell_type": "code",
   "source": [
    "plt.scatter(y_test, y_pred, color='blue')\n",
    "plt.plot([y_test.min(), y_test.max()], [y_test.min(), y_test.max()], 'k--', lw=2)\n",
    "plt.xlabel('Фактические значения')\n",
    "plt.ylabel('Предсказанные значения')\n",
    "plt.title('Фактические значения vs. Предсказанные')\n",
    "plt.show()"
   ],
   "id": "429d02a0fa11dd7e",
   "outputs": [
    {
     "data": {
      "text/plain": [
       "<Figure size 640x480 with 1 Axes>"
      ],
      "image/png": "[encoded data removed]"
     },
     "metadata": {},
     "output_type": "display_data"
    }
   ],
   "execution_count": 11
  },
  {
   "metadata": {},
   "cell_type": "markdown",
   "source": [
    "Этот график позволяет визуально оценить качество предсказаний модели:\n",
    "\n",
    "- **Точки на графике**: Каждая точка представляет собой пару `(Actual, Predicted)`.\n",
    "- **Черная пунктирная линия (`y = x`)**: Отображает идеальное соответствие между фактическими и предсказанными значениями.\n",
    "- **Анализ**:\n",
    "  - **Точки, близкие к линии**: Указывают на точные предсказания модели.\n",
    "  - **Рассеяние точек вокруг линии**: Показывает отклонения предсказаний от реальных значений."
   ],
   "id": "d04d6fdc93682d82"
  },
  {
   "metadata": {
    "ExecuteTime": {
     "end_time": "2025-05-06T10:58:56.461792Z",
     "start_time": "2025-05-06T10:58:56.222212Z"
    }
   },
   "cell_type": "code",
   "source": [
    "residuals = y_test - y_pred\n",
    "\n",
    "# Построение графика остатков\n",
    "plt.scatter(y_pred, residuals, color='green')\n",
    "plt.hlines(y=0, xmin=y_pred.min(), xmax=y_pred.max(), colors='red')\n",
    "plt.xlabel('Предсказанные значения')\n",
    "plt.ylabel('Остатки')\n",
    "plt.title('График остатков')\n",
    "plt.show()"
   ],
   "id": "8d92c7c071345de",
   "outputs": [
    {
     "data": {
      "text/plain": [
       "<Figure size 640x480 with 1 Axes>"
      ],
      "image/png": "[encoded data removed]"
     },
     "metadata": {},
     "output_type": "display_data"
    }
   ],
   "execution_count": 12
  },
  {
   "metadata": {},
   "cell_type": "markdown",
   "source": [
    "Этот график помогает выявить потенциальные проблемы в модели и определить необходимость её улучшения.\n",
    "\n",
    "**Остатки (`residuals`)**: Разница между фактическими и предсказанными значениями (`y_test - y_pred`).\n",
    "\n",
    "\n",
    "**Точки на графике**: Отображают зависимость остатков от предсказанных значений.\n",
    "**Красная горизонтальная линия (`y = 0`)**: Показывает, где остатки равны нулю.\n",
    "\n",
    "**Анализ**:\n",
    "- **Равномерное распределение**: Если остатки равномерно распределены вокруг нуля без явных паттернов, это свидетельствует о корректности модели.\n",
    "- **Паттерны в остатках**: Могут указывать на наличие нелинейных зависимостей, гетероскедастичности или других нарушений предположений модели.\n"
   ],
   "id": "c03c757570c39e9c"
  },
  {
   "metadata": {
    "ExecuteTime": {
     "end_time": "2025-05-06T10:58:56.670407Z",
     "start_time": "2025-05-06T10:58:56.495105Z"
    }
   },
   "cell_type": "code",
   "source": [
    "# Построение гистограммы остатков\n",
    "sns.histplot(residuals, kde=True, color='purple')\n",
    "plt.title('Гистограмма остатков')\n",
    "plt.xlabel('Остатки')\n",
    "plt.ylabel('Частота')\n",
    "plt.show()"
   ],
   "id": "a988d85c9e27bf4d",
   "outputs": [
    {
     "data": {
      "text/plain": [
       "<Figure size 640x480 with 1 Axes>"
      ],
      "image/png": "[encoded data removed]"
     },
     "metadata": {},
     "output_type": "display_data"
    }
   ],
   "execution_count": 13
  },
  {
   "metadata": {},
   "cell_type": "markdown",
   "source": [
    "Этот график помогает оценить соответствие остатков предположению о нормальности, что важно для статистической интерпретации модели.\n",
    "\n",
    "**Гистограмма**: Отображает частоту возникновения различных значений остатков.\n",
    "\n",
    "**Линия плотности (`kde=True`)**: Показывает оценку плотности распределения остатков.\n",
    "\n",
    "**Анализ**:\n",
    "- **Нормальное распределение**: Если гистограмма и линия плотности напоминают нормальное распределение, это подтверждает корректность предположений модели.\n",
    "- **Отклонения от нормальности**: Могут указывать на необходимость использования других моделей или трансформаций данных."
   ],
   "id": "c731c7e76be706b0"
  },
  {
   "metadata": {
    "ExecuteTime": {
     "end_time": "2025-05-06T10:58:56.915639Z",
     "start_time": "2025-05-06T10:58:56.869079Z"
    }
   },
   "cell_type": "code",
   "source": [
    "# Добавление столбца единиц для константы\n",
    "X_opt = np.append(arr=np.ones((X.shape[0], 1)).astype(int), values=X, axis=1)\n",
    "\n",
    "# Инициализация списка признаков для оптимизации\n",
    "X_opt = X_opt[:, range(X_opt.shape[1])]\n",
    "\n",
    "# Установка уровня значимости\n",
    "SL = 0.05\n",
    "\n",
    "# Функция для выполнения обратного исключения\n",
    "def backward_elimination(x, y, SL):\n",
    "    numVars = x.shape[1]\n",
    "    for i in range(numVars):\n",
    "        regressor_OLS = sm.OLS(y, x).fit()\n",
    "        maxPVal = max(regressor_OLS.pvalues).astype(float)\n",
    "        if maxPVal > SL:\n",
    "            idx = np.argmax(regressor_OLS.pvalues)\n",
    "            print(f\"Исключение признака с индексом {idx}, P-значение: {maxPVal}\")\n",
    "            x = np.delete(x, idx, 1)\n",
    "        else:\n",
    "            break\n",
    "    return x\n",
    "\n",
    "X_Modeled = backward_elimination(X_opt, y, SL)"
   ],
   "id": "4179ae256160f7be",
   "outputs": [
    {
     "name": "stdout",
     "output_type": "stream",
     "text": [
      "Исключение признака с индексом 8, P-значение: 0.5257786991231245\n",
      "Исключение признака с индексом 7, P-значение: 0.3087211957837556\n",
      "Исключение признака с индексом 5, P-значение: 0.1304364183902391\n"
     ]
    }
   ],
   "execution_count": 14
  },
  {
   "metadata": {},
   "cell_type": "markdown",
   "source": [
    "Этот блок выполняет **метод обратного исключения (Backward Elimination)** для отбора значимых признаков:\n",
    "\n",
    "1. **Добавление константы**:\n",
    "   - `np.ones` добавляет столбец единиц для включения константы (свободного члена) в модель.\n",
    "\n",
    "2. **Инициализация**:\n",
    "   - `X_opt` изначально содержит все признаки, включая константу.\n",
    "\n",
    "3. **Установка уровня значимости (`SL`)**:\n",
    "   - Определяет порог для исключения признаков. Признаки с `p-значением` выше этого порога будут удалены.\n",
    "\n",
    "4. **Функция `backward_elimination`**:\n",
    "   - Последовательно удаляет признаки с наибольшим `p-значением`, превышающим `SL`.\n",
    "   - На каждом шаге строится модель OLS (Ordinary Least Squares) и оцениваются `p-значения` признаков.\n",
    "   - Признак с наивысшим `p-значением` удаляется, если оно превышает `SL`.\n",
    "   - Процесс повторяется до тех пор, пока все признаки имеют `p-значения` ниже порога.\n",
    "\n",
    "5. **Результат**:\n",
    "   - `X_Modeled` содержит только значимые признаки после оптимизации.\n",
    "\n",
    "Этот шаг необходим для упрощения модели, улучшения её интерпретируемости и предотвращения переобучения за счет удаления незначимых или избыточных признаков."
   ],
   "id": "d7b9e0c9c93652c0"
  },
  {
   "metadata": {
    "ExecuteTime": {
     "end_time": "2025-05-06T10:58:56.981094Z",
     "start_time": "2025-05-06T10:58:56.967178Z"
    }
   },
   "cell_type": "code",
   "source": [
    "regressor_OLS = sm.OLS(endog=y, exog=X_Modeled).fit()\n",
    "print(regressor_OLS.summary())"
   ],
   "id": "bec94af9e0bf7e21",
   "outputs": [
    {
     "name": "stdout",
     "output_type": "stream",
     "text": [
      "                            OLS Regression Results                            \n",
      "==============================================================================\n",
      "Dep. Variable:                      y   R-squared:                       0.999\n",
      "Model:                            OLS   Adj. R-squared:                  0.999\n",
      "Method:                 Least Squares   F-statistic:                 3.260e+04\n",
      "Date:                Tue, 06 May 2025   Prob (F-statistic):          6.03e-294\n",
      "Time:                        20:58:56   Log-Likelihood:                 180.12\n",
      "No. Observations:                 210   AIC:                            -348.2\n",
      "Df Residuals:                     204   BIC:                            -328.2\n",
      "Df Model:                           5                                         \n",
      "Covariance Type:            nonrobust                                         \n",
      "==============================================================================\n",
      "                 coef    std err          t      P>|t|      [0.025      0.975]\n",
      "------------------------------------------------------------------------------\n",
      "const        -25.9427      0.979    -26.492      0.000     -27.873     -24.012\n",
      "x1             0.1073      0.031      3.467      0.001       0.046       0.168\n",
      "x2             0.1870      0.025      7.354      0.000       0.137       0.237\n",
      "x3             1.9382      0.041     47.776      0.000       1.858       2.018\n",
      "x4            11.8784      1.123     10.578      0.000       9.664      14.092\n",
      "x5             0.6529      0.175      3.731      0.000       0.308       0.998\n",
      "==============================================================================\n",
      "Omnibus:                       10.061   Durbin-Watson:                   1.235\n",
      "Prob(Omnibus):                  0.007   Jarque-Bera (JB):               10.350\n",
      "Skew:                           0.465   Prob(JB):                      0.00566\n",
      "Kurtosis:                       3.562   Cond. No.                     3.12e+03\n",
      "==============================================================================\n",
      "\n",
      "Notes:\n",
      "[1] Standard Errors assume that the covariance matrix of the errors is correctly specified.\n",
      "[2] The condition number is large, 3.12e+03. This might indicate that there are\n",
      "strong multicollinearity or other numerical problems.\n"
     ]
    }
   ],
   "execution_count": 15
  },
  {
   "metadata": {},
   "cell_type": "markdown",
   "source": [
    "Этот блок кода позволяет оценить качество модели после отбора признаков и понять, какие переменные существенно влияют на зависимую переменную.\n",
    "\n",
    "- **R-квадрат (0.999)**: Указывает, что модель объясняет 99.9% вариации зависимой переменной, что свидетельствует о высокой подгонке.\n",
    "- **P-значения**:\n",
    "  - Переменные `x1`, `x2`, `x3`, и `x4` имеют `p-значения` ниже 0.01, что указывает на их статистическую значимость.\n",
    "- **Предупреждения о мультиколлинеарности**: Низкое значение `Cond. No.` указывает на отсутствие проблем с мультиколлинеарностью между признаками."
   ],
   "id": "d1e35f01fd763063"
  }
 ],
 "metadata": {
  "kernelspec": {
   "display_name": "Python 3",
   "language": "python",
   "name": "python3"
  },
  "language_info": {
   "codemirror_mode": {
    "name": "ipython",
    "version": 2
   },
   "file_extension": ".py",
   "mimetype": "text/x-python",
   "name": "python",
   "nbconvert_exporter": "python",
   "pygments_lexer": "ipython2",
   "version": "2.7.6"
  }
 },
 "nbformat": 4,
 "nbformat_minor": 5
}
