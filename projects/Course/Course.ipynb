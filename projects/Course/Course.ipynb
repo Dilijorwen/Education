{
 "cells": [
  {
   "metadata": {
    "ExecuteTime": {
     "end_time": "2025-04-30T06:01:35.573224Z",
     "start_time": "2025-04-30T06:01:35.564447Z"
    }
   },
   "cell_type": "code",
   "source": [
    "import pandas as pd\n",
    "import numpy as np\n",
    "from pathlib import Path\n",
    "from sklearn.preprocessing import StandardScaler\n",
    "from sklearn.decomposition import PCA\n",
    "from sklearn.cluster import KMeans, AgglomerativeClustering, SpectralClustering, DBSCAN\n",
    "from sklearn.mixture import GaussianMixture\n",
    "from sklearn.metrics import silhouette_score, silhouette_samples\n",
    "import warnings\n",
    "\n",
    "import matplotlib.pyplot as plt\n",
    "import matplotlib.cm as cm\n",
    "\n",
    "RANDOM_STATE = 2004\n",
    "DATA_DIR = Path('datasets/luad_tcga_gdc')\n",
    "TPM_FILE = DATA_DIR / 'data_mrna_seq_tpm.txt'\n",
    "MUT_FILE = DATA_DIR / 'data_mutations.txt'\n",
    "CNA_FILE = DATA_DIR / 'data_cna.txt'\n",
    "\n",
    "TOP_VAR_GENES      = 1_000      # оставляем 1000 самых вариабельных генов\n",
    "MIN_MUT_FREQ       = 0.05       # ≥ 5 % пациентов\n",
    "MIN_CNA_FREQ       = 0.05       # ≥ 5 % пациентов\n",
    "CNA_GAIN_THRESHOLD =  2         # амплификация = +2\n",
    "CNA_LOSS_THRESHOLD = -2         # глубокая делеция = −2\n",
    "PCA_VARIANCE_THR   = 0.90       # хотим 90 % объяснённой дисперсии"
   ],
   "id": "2a1dc64353a72dff",
   "outputs": [],
   "execution_count": 12
  },
  {
   "metadata": {
    "ExecuteTime": {
     "end_time": "2025-04-30T06:01:39.613409Z",
     "start_time": "2025-04-30T06:01:35.630870Z"
    }
   },
   "cell_type": "code",
   "source": [
    "def load_expression(path: Path) -> pd.DataFrame:\n",
    "    df = pd.read_csv(path, index_col=0, sep='\\t', comment='#')\n",
    "    df = df.drop(columns=[c for c in ('Entrez_Gene_Id', 'EntrezGeneId') if c in df.columns])\n",
    "    df = np.log2(df + 1).T                            # строки → образцы\n",
    "    top = df.var().nlargest(TOP_VAR_GENES).index\n",
    "    df  = df[top]\n",
    "    return (df - df.mean()) / df.std(ddof=0)          # z-score\n",
    "\n",
    "expr_df = load_expression(TPM_FILE)\n",
    "expr_z  = pd.DataFrame(StandardScaler().fit_transform(expr_df),\n",
    "                       index=expr_df.index, columns=expr_df.columns)\n",
    "expr_z.shape"
   ],
   "id": "cbeb2765fb304f39",
   "outputs": [
    {
     "data": {
      "text/plain": [
       "(518, 1000)"
      ]
     },
     "execution_count": 13,
     "metadata": {},
     "output_type": "execute_result"
    }
   ],
   "execution_count": 13
  },
  {
   "metadata": {
    "ExecuteTime": {
     "end_time": "2025-04-30T06:01:40.995511Z",
     "start_time": "2025-04-30T06:01:39.661533Z"
    }
   },
   "cell_type": "code",
   "source": [
    "def load_mutations(path: Path) -> pd.DataFrame:\n",
    "    usecols = ['Tumor_Sample_Barcode', 'Hugo_Symbol', 'Variant_Classification']\n",
    "    mut = pd.read_csv(path, sep='\\t', usecols=usecols, comment='#')\n",
    "    mut = mut[mut['Variant_Classification'] != 'Silent']\n",
    "    mut['Sample'] = (\n",
    "        mut['Tumor_Sample_Barcode'].str.slice(stop=12)   # TCGA-XX-YYYY\n",
    "                             .str.replace(r'[A-Za-z]$', '', regex=True)\n",
    "    )\n",
    "    mat = pd.crosstab(mut['Sample'], mut['Hugo_Symbol']).clip(upper=1)\n",
    "    mat = mat.loc[:, mat.mean() >= MIN_MUT_FREQ]\n",
    "    mat.columns = mat.columns + '_mut'\n",
    "    return mat\n",
    "\n",
    "mut_df = load_mutations(MUT_FILE)\n",
    "mut_df.shape"
   ],
   "id": "c1d2809a08185d96",
   "outputs": [
    {
     "data": {
      "text/plain": [
       "(518, 741)"
      ]
     },
     "execution_count": 14,
     "metadata": {},
     "output_type": "execute_result"
    }
   ],
   "execution_count": 14
  },
  {
   "metadata": {
    "ExecuteTime": {
     "end_time": "2025-04-30T06:01:41.919548Z",
     "start_time": "2025-04-30T06:01:41.051040Z"
    }
   },
   "cell_type": "code",
   "source": [
    "def load_cna(path: Path):\n",
    "    cna = pd.read_csv(path, sep='\\t', index_col=0, comment='#')\n",
    "    cna = cna.drop(columns=[c for c in ('Entrez_Gene_Id', 'EntrezGeneId') if c in cna.columns]).T\n",
    "    amp  = (cna >= CNA_GAIN_THRESHOLD).astype(int)\n",
    "    dele = (cna <= CNA_LOSS_THRESHOLD).astype(int)\n",
    "    amp  = amp.loc[:,  amp.mean()  >= MIN_CNA_FREQ].add_suffix('_amp')\n",
    "    dele = dele.loc[:, dele.mean() >= MIN_CNA_FREQ].add_suffix('_del')\n",
    "    return amp, dele\n",
    "\n",
    "amp_df, del_df = load_cna(CNA_FILE)\n",
    "amp_df.shape, del_df.shape"
   ],
   "id": "e51345762a9cdb6e",
   "outputs": [
    {
     "data": {
      "text/plain": [
       "((508, 4844), (508, 88))"
      ]
     },
     "execution_count": 15,
     "metadata": {},
     "output_type": "execute_result"
    }
   ],
   "execution_count": 15
  },
  {
   "metadata": {
    "ExecuteTime": {
     "end_time": "2025-04-30T06:01:41.972351Z",
     "start_time": "2025-04-30T06:01:41.955879Z"
    }
   },
   "cell_type": "code",
   "source": [
    "all_samples = expr_z.index\n",
    "mut_df = mut_df.reindex(all_samples, fill_value=0)\n",
    "amp_df = amp_df.reindex(all_samples, fill_value=0)\n",
    "del_df = del_df.reindex(all_samples, fill_value=0)\n",
    "\n",
    "combined = pd.concat([expr_z, mut_df, amp_df, del_df], axis=1)\n",
    "# combined.shape\n",
    "combined.head()"
   ],
   "id": "7de17fbc4ad881a2",
   "outputs": [
    {
     "data": {
      "text/plain": [
       "                      6440     51297      5225      6192    653509      2266  \\\n",
       "TCGA-05-4244-01A  0.458319  0.277907 -0.381757  0.557794  0.732610 -0.578059   \n",
       "TCGA-05-4249-01A  0.196822  0.034726 -0.288453  1.238646  0.831242 -0.759722   \n",
       "TCGA-05-4250-01A  0.316856 -0.994841 -0.086407 -0.954141  0.401256 -0.925624   \n",
       "TCGA-05-4382-01A -1.516244 -0.619610 -1.484789  1.003660 -2.192200  0.241436   \n",
       "TCGA-05-4384-01A  1.237615  2.240053  1.212388  1.245028  0.950156  1.740603   \n",
       "\n",
       "                      7031      2877    729238      2243  ...  55958_del  \\\n",
       "TCGA-05-4244-01A -0.912601 -1.034299  0.727462 -0.916899  ...          0   \n",
       "TCGA-05-4249-01A -0.833064  0.608309  0.736196 -0.756469  ...          0   \n",
       "TCGA-05-4250-01A -0.481595 -0.940603  0.441133 -0.767617  ...          0   \n",
       "TCGA-05-4382-01A -0.884804  1.115261 -1.839599  0.331663  ...          0   \n",
       "TCGA-05-4384-01A -0.093345  1.348399  0.894255  1.628071  ...          0   \n",
       "\n",
       "                  57035_del  6007_del  63951_del  646227_del  646581_del  \\\n",
       "TCGA-05-4244-01A          0         0          0           0           0   \n",
       "TCGA-05-4249-01A          1         1          0           0           0   \n",
       "TCGA-05-4250-01A          0         0          0           0           0   \n",
       "TCGA-05-4382-01A          0         0          0           0           0   \n",
       "TCGA-05-4384-01A          0         0          0           0           0   \n",
       "\n",
       "                  646609_del  654346_del  80039_del  85347_del  \n",
       "TCGA-05-4244-01A           0           0          0          1  \n",
       "TCGA-05-4249-01A           0           0          0          1  \n",
       "TCGA-05-4250-01A           0           0          0          1  \n",
       "TCGA-05-4382-01A           0           0          0          0  \n",
       "TCGA-05-4384-01A           0           1          1          0  \n",
       "\n",
       "[5 rows x 6673 columns]"
      ],
      "text/html": [
       "<div>\n",
       "<style scoped>\n",
       "    .dataframe tbody tr th:only-of-type {\n",
       "        vertical-align: middle;\n",
       "    }\n",
       "\n",
       "    .dataframe tbody tr th {\n",
       "        vertical-align: top;\n",
       "    }\n",
       "\n",
       "    .dataframe thead th {\n",
       "        text-align: right;\n",
       "    }\n",
       "</style>\n",
       "<table border=\"1\" class=\"dataframe\">\n",
       "  <thead>\n",
       "    <tr style=\"text-align: right;\">\n",
       "      <th></th>\n",
       "      <th>6440</th>\n",
       "      <th>51297</th>\n",
       "      <th>5225</th>\n",
       "      <th>6192</th>\n",
       "      <th>653509</th>\n",
       "      <th>2266</th>\n",
       "      <th>7031</th>\n",
       "      <th>2877</th>\n",
       "      <th>729238</th>\n",
       "      <th>2243</th>\n",
       "      <th>...</th>\n",
       "      <th>55958_del</th>\n",
       "      <th>57035_del</th>\n",
       "      <th>6007_del</th>\n",
       "      <th>63951_del</th>\n",
       "      <th>646227_del</th>\n",
       "      <th>646581_del</th>\n",
       "      <th>646609_del</th>\n",
       "      <th>654346_del</th>\n",
       "      <th>80039_del</th>\n",
       "      <th>85347_del</th>\n",
       "    </tr>\n",
       "  </thead>\n",
       "  <tbody>\n",
       "    <tr>\n",
       "      <th>TCGA-05-4244-01A</th>\n",
       "      <td>0.458319</td>\n",
       "      <td>0.277907</td>\n",
       "      <td>-0.381757</td>\n",
       "      <td>0.557794</td>\n",
       "      <td>0.732610</td>\n",
       "      <td>-0.578059</td>\n",
       "      <td>-0.912601</td>\n",
       "      <td>-1.034299</td>\n",
       "      <td>0.727462</td>\n",
       "      <td>-0.916899</td>\n",
       "      <td>...</td>\n",
       "      <td>0</td>\n",
       "      <td>0</td>\n",
       "      <td>0</td>\n",
       "      <td>0</td>\n",
       "      <td>0</td>\n",
       "      <td>0</td>\n",
       "      <td>0</td>\n",
       "      <td>0</td>\n",
       "      <td>0</td>\n",
       "      <td>1</td>\n",
       "    </tr>\n",
       "    <tr>\n",
       "      <th>TCGA-05-4249-01A</th>\n",
       "      <td>0.196822</td>\n",
       "      <td>0.034726</td>\n",
       "      <td>-0.288453</td>\n",
       "      <td>1.238646</td>\n",
       "      <td>0.831242</td>\n",
       "      <td>-0.759722</td>\n",
       "      <td>-0.833064</td>\n",
       "      <td>0.608309</td>\n",
       "      <td>0.736196</td>\n",
       "      <td>-0.756469</td>\n",
       "      <td>...</td>\n",
       "      <td>0</td>\n",
       "      <td>1</td>\n",
       "      <td>1</td>\n",
       "      <td>0</td>\n",
       "      <td>0</td>\n",
       "      <td>0</td>\n",
       "      <td>0</td>\n",
       "      <td>0</td>\n",
       "      <td>0</td>\n",
       "      <td>1</td>\n",
       "    </tr>\n",
       "    <tr>\n",
       "      <th>TCGA-05-4250-01A</th>\n",
       "      <td>0.316856</td>\n",
       "      <td>-0.994841</td>\n",
       "      <td>-0.086407</td>\n",
       "      <td>-0.954141</td>\n",
       "      <td>0.401256</td>\n",
       "      <td>-0.925624</td>\n",
       "      <td>-0.481595</td>\n",
       "      <td>-0.940603</td>\n",
       "      <td>0.441133</td>\n",
       "      <td>-0.767617</td>\n",
       "      <td>...</td>\n",
       "      <td>0</td>\n",
       "      <td>0</td>\n",
       "      <td>0</td>\n",
       "      <td>0</td>\n",
       "      <td>0</td>\n",
       "      <td>0</td>\n",
       "      <td>0</td>\n",
       "      <td>0</td>\n",
       "      <td>0</td>\n",
       "      <td>1</td>\n",
       "    </tr>\n",
       "    <tr>\n",
       "      <th>TCGA-05-4382-01A</th>\n",
       "      <td>-1.516244</td>\n",
       "      <td>-0.619610</td>\n",
       "      <td>-1.484789</td>\n",
       "      <td>1.003660</td>\n",
       "      <td>-2.192200</td>\n",
       "      <td>0.241436</td>\n",
       "      <td>-0.884804</td>\n",
       "      <td>1.115261</td>\n",
       "      <td>-1.839599</td>\n",
       "      <td>0.331663</td>\n",
       "      <td>...</td>\n",
       "      <td>0</td>\n",
       "      <td>0</td>\n",
       "      <td>0</td>\n",
       "      <td>0</td>\n",
       "      <td>0</td>\n",
       "      <td>0</td>\n",
       "      <td>0</td>\n",
       "      <td>0</td>\n",
       "      <td>0</td>\n",
       "      <td>0</td>\n",
       "    </tr>\n",
       "    <tr>\n",
       "      <th>TCGA-05-4384-01A</th>\n",
       "      <td>1.237615</td>\n",
       "      <td>2.240053</td>\n",
       "      <td>1.212388</td>\n",
       "      <td>1.245028</td>\n",
       "      <td>0.950156</td>\n",
       "      <td>1.740603</td>\n",
       "      <td>-0.093345</td>\n",
       "      <td>1.348399</td>\n",
       "      <td>0.894255</td>\n",
       "      <td>1.628071</td>\n",
       "      <td>...</td>\n",
       "      <td>0</td>\n",
       "      <td>0</td>\n",
       "      <td>0</td>\n",
       "      <td>0</td>\n",
       "      <td>0</td>\n",
       "      <td>0</td>\n",
       "      <td>0</td>\n",
       "      <td>1</td>\n",
       "      <td>1</td>\n",
       "      <td>0</td>\n",
       "    </tr>\n",
       "  </tbody>\n",
       "</table>\n",
       "<p>5 rows × 6673 columns</p>\n",
       "</div>"
      ]
     },
     "execution_count": 16,
     "metadata": {},
     "output_type": "execute_result"
    }
   ],
   "execution_count": 16
  },
  {
   "metadata": {
    "ExecuteTime": {
     "end_time": "2025-04-30T06:01:42.906828Z",
     "start_time": "2025-04-30T06:01:42.266496Z"
    }
   },
   "cell_type": "code",
   "source": [
    "combined.columns = combined.columns.astype(str)\n",
    "# z-score по каждому признаку\n",
    "combined_z = StandardScaler().fit_transform(combined)\n",
    "\n",
    "# PCA без ограничения → ищем минимальное n компонент ≥ PCA_VARIANCE_THR\n",
    "pca_full = PCA(random_state=RANDOM_STATE).fit(combined_z)\n",
    "cum_var  = np.cumsum(pca_full.explained_variance_ratio_)\n",
    "optimal_n = np.searchsorted(cum_var, PCA_VARIANCE_THR) + 1\n",
    "print(f'⇒  {optimal_n} компонентов дают ≥ {PCA_VARIANCE_THR:.0%} дисперсии')\n",
    "\n",
    "# визуальная “коленная” кривая\n",
    "plt.plot(range(1, len(cum_var)+1), cum_var, marker='.')\n",
    "plt.axhline(PCA_VARIANCE_THR, ls='--', c='r')\n",
    "plt.axvline(optimal_n,         ls='--', c='r')\n",
    "plt.xlabel('Компоненты'); plt.ylabel('Σ дисперсия'); plt.title('Scree-plot')\n",
    "plt.show()\n",
    "\n",
    "# финальный PCA\n",
    "pca = PCA(n_components=optimal_n, random_state=RANDOM_STATE)\n",
    "pcs = pca.fit_transform(combined_z)\n",
    "pc_df = pd.DataFrame(pcs, index=combined.index,\n",
    "                     columns=[f'PC{i+1}' for i in range(optimal_n)])\n",
    "pc_df.head()"
   ],
   "id": "a7cddbe4e5960272",
   "outputs": [
    {
     "name": "stdout",
     "output_type": "stream",
     "text": [
      "⇒  76 компонентов дают ≥ 90% дисперсии\n"
     ]
    },
    {
     "data": {
      "text/plain": [
       "<Figure size 640x480 with 1 Axes>"
      ],
      "image/png": "[encoded data removed]"
     },
     "metadata": {},
     "output_type": "display_data"
    },
    {
     "data": {
      "text/plain": [
       "                         PC1        PC2        PC3        PC4        PC5  \\\n",
       "TCGA-05-4244-01A  157.180904  27.770796 -52.538045   6.981269 -30.504276   \n",
       "TCGA-05-4249-01A  110.554269 -73.919521 -45.535707 -23.628148 -13.279726   \n",
       "TCGA-05-4250-01A  -14.614978  -2.708734  -0.534406   1.960315   4.821094   \n",
       "TCGA-05-4382-01A  -20.311030  -6.499644  -0.146698  -1.642807   0.515931   \n",
       "TCGA-05-4384-01A  -19.974751  -7.801987  -3.304122  -4.335728  -3.069256   \n",
       "\n",
       "                        PC6        PC7        PC8        PC9       PC10  ...  \\\n",
       "TCGA-05-4244-01A -20.163922 -15.961320   6.717578 -19.622145   0.967271  ...   \n",
       "TCGA-05-4249-01A  -2.441255   4.687874  -2.190743   1.301718 -11.493548  ...   \n",
       "TCGA-05-4250-01A  23.200166 -10.089275  12.932628  -5.533502  -6.019271  ...   \n",
       "TCGA-05-4382-01A   0.278828  11.558695  -3.396742  -3.482125  -9.906808  ...   \n",
       "TCGA-05-4384-01A  -0.265276  -9.043897  -2.298245  -2.523706  10.796222  ...   \n",
       "\n",
       "                      PC67      PC68      PC69      PC70      PC71      PC72  \\\n",
       "TCGA-05-4244-01A -1.127122  2.478876 -5.453082 -4.012055  4.338596  4.174996   \n",
       "TCGA-05-4249-01A  1.935794 -1.106626 -0.800069 -2.371387  0.619440  0.215626   \n",
       "TCGA-05-4250-01A  9.074273 -2.259327 -1.503829  4.536682  1.607519 -4.152936   \n",
       "TCGA-05-4382-01A -0.377336 -0.523015  1.447731 -1.204059 -0.564616 -1.244733   \n",
       "TCGA-05-4384-01A -3.711985  1.411940 -1.982404 -1.967238  3.044169  2.099663   \n",
       "\n",
       "                      PC73      PC74      PC75      PC76  \n",
       "TCGA-05-4244-01A  1.895319  0.097741  3.166019 -5.431470  \n",
       "TCGA-05-4249-01A  1.030684 -0.008194 -1.386934 -0.770815  \n",
       "TCGA-05-4250-01A  2.454581 -3.008797 -2.007834 -1.470552  \n",
       "TCGA-05-4382-01A -1.319266 -0.102235 -1.100786  2.130852  \n",
       "TCGA-05-4384-01A -1.926449  0.866592 -0.223113 -0.584414  \n",
       "\n",
       "[5 rows x 76 columns]"
      ],
      "text/html": [
       "<div>\n",
       "<style scoped>\n",
       "    .dataframe tbody tr th:only-of-type {\n",
       "        vertical-align: middle;\n",
       "    }\n",
       "\n",
       "    .dataframe tbody tr th {\n",
       "        vertical-align: top;\n",
       "    }\n",
       "\n",
       "    .dataframe thead th {\n",
       "        text-align: right;\n",
       "    }\n",
       "</style>\n",
       "<table border=\"1\" class=\"dataframe\">\n",
       "  <thead>\n",
       "    <tr style=\"text-align: right;\">\n",
       "      <th></th>\n",
       "      <th>PC1</th>\n",
       "      <th>PC2</th>\n",
       "      <th>PC3</th>\n",
       "      <th>PC4</th>\n",
       "      <th>PC5</th>\n",
       "      <th>PC6</th>\n",
       "      <th>PC7</th>\n",
       "      <th>PC8</th>\n",
       "      <th>PC9</th>\n",
       "      <th>PC10</th>\n",
       "      <th>...</th>\n",
       "      <th>PC67</th>\n",
       "      <th>PC68</th>\n",
       "      <th>PC69</th>\n",
       "      <th>PC70</th>\n",
       "      <th>PC71</th>\n",
       "      <th>PC72</th>\n",
       "      <th>PC73</th>\n",
       "      <th>PC74</th>\n",
       "      <th>PC75</th>\n",
       "      <th>PC76</th>\n",
       "    </tr>\n",
       "  </thead>\n",
       "  <tbody>\n",
       "    <tr>\n",
       "      <th>TCGA-05-4244-01A</th>\n",
       "      <td>157.180904</td>\n",
       "      <td>27.770796</td>\n",
       "      <td>-52.538045</td>\n",
       "      <td>6.981269</td>\n",
       "      <td>-30.504276</td>\n",
       "      <td>-20.163922</td>\n",
       "      <td>-15.961320</td>\n",
       "      <td>6.717578</td>\n",
       "      <td>-19.622145</td>\n",
       "      <td>0.967271</td>\n",
       "      <td>...</td>\n",
       "      <td>-1.127122</td>\n",
       "      <td>2.478876</td>\n",
       "      <td>-5.453082</td>\n",
       "      <td>-4.012055</td>\n",
       "      <td>4.338596</td>\n",
       "      <td>4.174996</td>\n",
       "      <td>1.895319</td>\n",
       "      <td>0.097741</td>\n",
       "      <td>3.166019</td>\n",
       "      <td>-5.431470</td>\n",
       "    </tr>\n",
       "    <tr>\n",
       "      <th>TCGA-05-4249-01A</th>\n",
       "      <td>110.554269</td>\n",
       "      <td>-73.919521</td>\n",
       "      <td>-45.535707</td>\n",
       "      <td>-23.628148</td>\n",
       "      <td>-13.279726</td>\n",
       "      <td>-2.441255</td>\n",
       "      <td>4.687874</td>\n",
       "      <td>-2.190743</td>\n",
       "      <td>1.301718</td>\n",
       "      <td>-11.493548</td>\n",
       "      <td>...</td>\n",
       "      <td>1.935794</td>\n",
       "      <td>-1.106626</td>\n",
       "      <td>-0.800069</td>\n",
       "      <td>-2.371387</td>\n",
       "      <td>0.619440</td>\n",
       "      <td>0.215626</td>\n",
       "      <td>1.030684</td>\n",
       "      <td>-0.008194</td>\n",
       "      <td>-1.386934</td>\n",
       "      <td>-0.770815</td>\n",
       "    </tr>\n",
       "    <tr>\n",
       "      <th>TCGA-05-4250-01A</th>\n",
       "      <td>-14.614978</td>\n",
       "      <td>-2.708734</td>\n",
       "      <td>-0.534406</td>\n",
       "      <td>1.960315</td>\n",
       "      <td>4.821094</td>\n",
       "      <td>23.200166</td>\n",
       "      <td>-10.089275</td>\n",
       "      <td>12.932628</td>\n",
       "      <td>-5.533502</td>\n",
       "      <td>-6.019271</td>\n",
       "      <td>...</td>\n",
       "      <td>9.074273</td>\n",
       "      <td>-2.259327</td>\n",
       "      <td>-1.503829</td>\n",
       "      <td>4.536682</td>\n",
       "      <td>1.607519</td>\n",
       "      <td>-4.152936</td>\n",
       "      <td>2.454581</td>\n",
       "      <td>-3.008797</td>\n",
       "      <td>-2.007834</td>\n",
       "      <td>-1.470552</td>\n",
       "    </tr>\n",
       "    <tr>\n",
       "      <th>TCGA-05-4382-01A</th>\n",
       "      <td>-20.311030</td>\n",
       "      <td>-6.499644</td>\n",
       "      <td>-0.146698</td>\n",
       "      <td>-1.642807</td>\n",
       "      <td>0.515931</td>\n",
       "      <td>0.278828</td>\n",
       "      <td>11.558695</td>\n",
       "      <td>-3.396742</td>\n",
       "      <td>-3.482125</td>\n",
       "      <td>-9.906808</td>\n",
       "      <td>...</td>\n",
       "      <td>-0.377336</td>\n",
       "      <td>-0.523015</td>\n",
       "      <td>1.447731</td>\n",
       "      <td>-1.204059</td>\n",
       "      <td>-0.564616</td>\n",
       "      <td>-1.244733</td>\n",
       "      <td>-1.319266</td>\n",
       "      <td>-0.102235</td>\n",
       "      <td>-1.100786</td>\n",
       "      <td>2.130852</td>\n",
       "    </tr>\n",
       "    <tr>\n",
       "      <th>TCGA-05-4384-01A</th>\n",
       "      <td>-19.974751</td>\n",
       "      <td>-7.801987</td>\n",
       "      <td>-3.304122</td>\n",
       "      <td>-4.335728</td>\n",
       "      <td>-3.069256</td>\n",
       "      <td>-0.265276</td>\n",
       "      <td>-9.043897</td>\n",
       "      <td>-2.298245</td>\n",
       "      <td>-2.523706</td>\n",
       "      <td>10.796222</td>\n",
       "      <td>...</td>\n",
       "      <td>-3.711985</td>\n",
       "      <td>1.411940</td>\n",
       "      <td>-1.982404</td>\n",
       "      <td>-1.967238</td>\n",
       "      <td>3.044169</td>\n",
       "      <td>2.099663</td>\n",
       "      <td>-1.926449</td>\n",
       "      <td>0.866592</td>\n",
       "      <td>-0.223113</td>\n",
       "      <td>-0.584414</td>\n",
       "    </tr>\n",
       "  </tbody>\n",
       "</table>\n",
       "<p>5 rows × 76 columns</p>\n",
       "</div>"
      ]
     },
     "execution_count": 17,
     "metadata": {},
     "output_type": "execute_result"
    }
   ],
   "execution_count": 17
  },
  {
   "metadata": {
    "ExecuteTime": {
     "end_time": "2025-04-30T06:01:43.273523Z",
     "start_time": "2025-04-30T06:01:43.269829Z"
    }
   },
   "cell_type": "code",
   "source": [
    "def evaluate(model, X):\n",
    "    \"\"\"Возвращает (силуэт, labels) либо (-1, None), если <2 кластеров.\"\"\"\n",
    "    try:\n",
    "        if hasattr(model, 'fit_predict'):\n",
    "            labels = model.fit_predict(X)\n",
    "        else:                         # GMM\n",
    "            labels = model.fit(X).predict(X)\n",
    "    except Exception as e:\n",
    "        warnings.warn(str(e)); return -1, None\n",
    "    n_cl = len(np.unique(labels)) - (1 if -1 in labels else 0)\n",
    "    if n_cl < 2:                      # не годится\n",
    "        return -1, None\n",
    "    # для DBSCAN: игнорируем выбросы (-1) в силуэте\n",
    "    mask = labels != -1\n",
    "    if mask.sum() < 0.9*len(labels):  # кластеризация «слишком много мусора»\n",
    "        return -1, None\n",
    "    score = silhouette_score(X[mask], labels[mask])\n",
    "    return score, labels"
   ],
   "id": "22b5ee5490f6a804",
   "outputs": [],
   "execution_count": 18
  },
  {
   "metadata": {
    "ExecuteTime": {
     "end_time": "2025-04-30T06:01:44.008148Z",
     "start_time": "2025-04-30T06:01:43.359505Z"
    }
   },
   "cell_type": "code",
   "source": [
    "candidates = []\n",
    "\n",
    "# k-зависимые модели (2…8)\n",
    "for k in range(2, 9):\n",
    "    candidates += [\n",
    "        KMeans(n_clusters=k, n_init=20, random_state=RANDOM_STATE),\n",
    "        AgglomerativeClustering(n_clusters=k, linkage='ward'),\n",
    "        GaussianMixture(n_components=k, covariance_type='full', random_state=RANDOM_STATE),\n",
    "        SpectralClustering(n_clusters=k, affinity='nearest_neighbors', random_state=RANDOM_STATE)\n",
    "    ]\n",
    "\n",
    "# DBSCAN (k не нужен)\n",
    "for eps in (0.5, 0.7, 1.0):\n",
    "    candidates.append(DBSCAN(eps=eps, min_samples=5))\n",
    "\n",
    "best_score, best_labels, best_model = -1, None, None\n",
    "for model in candidates:\n",
    "    score, labels = evaluate(model, pc_df.values)\n",
    "    if score > best_score:\n",
    "        best_score, best_labels, best_model = score, labels, model\n",
    "\n",
    "n_clusters = len(np.unique(best_labels)) - (1 if -1 in best_labels else 0)\n",
    "print(f'↪  Лучшая модель: {best_model}\\n   N clusters = {n_clusters}'\n",
    "      f'\\n   Silhouette = {best_score:.3f}')\n",
    "\n",
    "labels_final = pd.Series(best_labels, index=pc_df.index, name='Cluster')"
   ],
   "id": "8beca6df8ffbc9be",
   "outputs": [
    {
     "name": "stdout",
     "output_type": "stream",
     "text": [
      "↪  Лучшая модель: GaussianMixture(n_components=2, random_state=2004)\n",
      "   N clusters = 2\n",
      "   Silhouette = 0.537\n"
     ]
    }
   ],
   "execution_count": 19
  },
  {
   "metadata": {
    "ExecuteTime": {
     "end_time": "2025-04-30T06:01:44.281454Z",
     "start_time": "2025-04-30T06:01:44.197455Z"
    }
   },
   "cell_type": "code",
   "source": [
    "plt.figure(figsize=(6,5))\n",
    "for lab in np.unique(labels_final):\n",
    "    idx = labels_final == lab\n",
    "    plt.scatter(pc_df.loc[idx, 'PC1'], pc_df.loc[idx, 'PC2'],\n",
    "                label=f'Кл. {lab+1}', alpha=.75)\n",
    "plt.xlabel('PC1'); plt.ylabel('PC2')\n",
    "plt.title('Кластеры в пространстве PC1-PC2')\n",
    "plt.legend(); plt.show()"
   ],
   "id": "b32a56f06d674857",
   "outputs": [
    {
     "data": {
      "text/plain": [
       "<Figure size 600x500 with 1 Axes>"
      ],
      "image/png": "[encoded data removed]"
     },
     "metadata": {},
     "output_type": "display_data"
    }
   ],
   "execution_count": 20
  },
  {
   "metadata": {
    "ExecuteTime": {
     "end_time": "2025-04-30T06:01:44.412977Z",
     "start_time": "2025-04-30T06:01:44.376186Z"
    }
   },
   "cell_type": "code",
   "source": [
    "sil_vals = silhouette_samples(pc_df, labels_final)\n",
    "sil_avg  = silhouette_score(pc_df, labels_final).round(3)\n",
    "plt.figure(figsize=(7,4))\n",
    "y_low = 0\n",
    "for lab in range(n_clusters):\n",
    "    vals = np.sort(sil_vals[labels_final == lab])\n",
    "    size = vals.size\n",
    "    plt.fill_betweenx(np.arange(y_low, y_low+size), 0, vals,\n",
    "                      color=cm.nipy_spectral(lab/n_clusters), alpha=.7)\n",
    "    plt.text(0.02, y_low + size/2, f'Cl {lab+1}')\n",
    "    y_low += size + 5\n",
    "plt.axvline(sil_avg, c='red', ls='--')\n",
    "plt.title(f'Силуэт-график  (mean = {sil_avg})')\n",
    "plt.xlabel('Силуэт-коэффициент'); plt.yticks([])\n",
    "plt.show()"
   ],
   "id": "9f7c29d4b04d2898",
   "outputs": [
    {
     "data": {
      "text/plain": [
       "<Figure size 700x400 with 1 Axes>"
      ],
      "image/png": "[encoded data removed]"
     },
     "metadata": {},
     "output_type": "display_data"
    }
   ],
   "execution_count": 21
  },
  {
   "metadata": {
    "ExecuteTime": {
     "end_time": "2025-04-30T06:07:34.988780Z",
     "start_time": "2025-04-30T06:07:34.940727Z"
    }
   },
   "cell_type": "code",
   "source": [
    "cl0 = combined.loc[labels_final == 0]\n",
    "cl1 = combined.loc[labels_final == 1]\n",
    "\n",
    "diff = (cl1.mean() - cl0.mean()).abs().sort_values(ascending=False)\n",
    "print(diff.head(20))\n",
    "print(cl1.head())"
   ],
   "id": "3d3eec05c8b48cd5",
   "outputs": [
    {
     "name": "stdout",
     "output_type": "stream",
     "text": [
      "83416_amp        0.865633\n",
      "910_amp          0.845525\n",
      "913_amp          0.845525\n",
      "9722_amp         0.845525\n",
      "100873296_amp    0.845525\n",
      "79514_amp        0.843411\n",
      "128371_amp       0.843411\n",
      "391115_amp       0.843411\n",
      "646377_amp       0.843411\n",
      "128368_amp       0.843411\n",
      "149499_amp       0.843411\n",
      "128370_amp       0.843411\n",
      "106479445_amp    0.843411\n",
      "81474_amp        0.843411\n",
      "81449_amp        0.843411\n",
      "115352_amp       0.843411\n",
      "391112_amp       0.843411\n",
      "105371455_amp    0.843411\n",
      "4332_amp         0.843411\n",
      "81448_amp        0.843411\n",
      "dtype: float64\n",
      "                      6440     51297      5225      6192    653509      2266  \\\n",
      "TCGA-05-4244-01A  0.458319  0.277907 -0.381757  0.557794  0.732610 -0.578059   \n",
      "TCGA-05-4249-01A  0.196822  0.034726 -0.288453  1.238646  0.831242 -0.759722   \n",
      "TCGA-05-4398-01A -0.128921  0.275457 -0.796785 -0.922422 -0.586154 -0.514265   \n",
      "TCGA-05-4405-01A  0.849733  0.354035 -0.047477 -0.862288  0.146158 -0.353477   \n",
      "TCGA-05-4410-01A -0.100296  0.843153 -0.352649  0.916472 -0.176516 -1.302559   \n",
      "\n",
      "                      7031      2877    729238      2243  ...  55958_del  \\\n",
      "TCGA-05-4244-01A -0.912601 -1.034299  0.727462 -0.916899  ...          0   \n",
      "TCGA-05-4249-01A -0.833064  0.608309  0.736196 -0.756469  ...          0   \n",
      "TCGA-05-4398-01A -0.719147 -1.265071 -0.632717 -0.959929  ...          0   \n",
      "TCGA-05-4405-01A -0.958911 -1.124416  0.111008 -0.630393  ...          0   \n",
      "TCGA-05-4410-01A -0.879139 -1.094595 -0.049791 -1.065734  ...          0   \n",
      "\n",
      "                  57035_del  6007_del  63951_del  646227_del  646581_del  \\\n",
      "TCGA-05-4244-01A          0         0          0           0           0   \n",
      "TCGA-05-4249-01A          1         1          0           0           0   \n",
      "TCGA-05-4398-01A          1         1          0           0           0   \n",
      "TCGA-05-4405-01A          0         0          0           0           0   \n",
      "TCGA-05-4410-01A          0         0          0           0           0   \n",
      "\n",
      "                  646609_del  654346_del  80039_del  85347_del  \n",
      "TCGA-05-4244-01A           0           0          0          1  \n",
      "TCGA-05-4249-01A           0           0          0          1  \n",
      "TCGA-05-4398-01A           0           0          0          0  \n",
      "TCGA-05-4405-01A           0           0          0          0  \n",
      "TCGA-05-4410-01A           0           0          0          0  \n",
      "\n",
      "[5 rows x 6673 columns]\n"
     ]
    }
   ],
   "execution_count": 24
  }
 ],
 "metadata": {
  "kernelspec": {
   "display_name": "Python 3",
   "language": "python",
   "name": "python3"
  },
  "language_info": {
   "codemirror_mode": {
    "name": "ipython",
    "version": 2
   },
   "file_extension": ".py",
   "mimetype": "text/x-python",
   "name": "python",
   "nbconvert_exporter": "python",
   "pygments_lexer": "ipython2",
   "version": "2.7.6"
  }
 },
 "nbformat": 4,
 "nbformat_minor": 5
}
