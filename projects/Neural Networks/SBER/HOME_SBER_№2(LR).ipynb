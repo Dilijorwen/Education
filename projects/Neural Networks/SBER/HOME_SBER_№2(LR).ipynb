{
 "cells": [
  {
   "metadata": {},
   "cell_type": "markdown",
   "source": "# Домашнее Задание",
   "id": "42337b2b59224479"
  },
  {
   "metadata": {},
   "cell_type": "markdown",
   "source": [
    "### Моделирование\n",
    "Обучить модель линейной регресии на всех фичах (категориальных+числовых).\n",
    "Предварительно преобразовать категориальные фичи, заполнить пропуски, почистить высокоскореллированные фичи и тд.\n",
    "\n",
    "Попробовать обучить lasso/ridge регрессии, оценить коэффициенты при регрессорах, описать есть ли ненужные фичи.\n",
    "\n",
    "Замерить метрики MSE, R2 на train/test выборках\n",
    "\n",
    "Со **здвёздочкой***: Дополнительно отобрать фичи таким образом, чтобы максимизировать качество модели на test выборке."
   ],
   "id": "ff399dd4dcbc930c"
  },
  {
   "cell_type": "code",
   "execution_count": null,
   "id": "initial_id",
   "metadata": {
    "collapsed": true
   },
   "outputs": [],
   "source": [
    ""
   ]
  }
 ],
 "metadata": {
  "kernelspec": {
   "display_name": "Python 3",
   "language": "python",
   "name": "python3"
  },
  "language_info": {
   "codemirror_mode": {
    "name": "ipython",
    "version": 2
   },
   "file_extension": ".py",
   "mimetype": "text/x-python",
   "name": "python",
   "nbconvert_exporter": "python",
   "pygments_lexer": "ipython2",
   "version": "2.7.6"
  }
 },
 "nbformat": 4,
 "nbformat_minor": 5
}
