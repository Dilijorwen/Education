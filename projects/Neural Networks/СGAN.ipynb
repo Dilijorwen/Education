{
 "cells": [
  {
   "metadata": {
    "ExecuteTime": {
     "end_time": "2025-06-13T13:44:17.180039Z",
     "start_time": "2025-06-13T13:44:17.175974Z"
    }
   },
   "cell_type": "code",
   "source": [
    "import torch\n",
    "import torch.nn as nn\n",
    "import torch.optim as optim\n",
    "import torchvision\n",
    "import torchvision.transforms as T\n",
    "from torch.utils.data import DataLoader\n",
    "from torchvision.utils import make_grid\n",
    "import matplotlib.pyplot as plt\n",
    "from IPython.display import clear_output\n",
    "from ipywidgets import interact"
   ],
   "id": "2c7e538945a6bf9f",
   "outputs": [],
   "execution_count": 8
  },
  {
   "metadata": {
    "ExecuteTime": {
     "end_time": "2025-06-13T13:42:41.087622Z",
     "start_time": "2025-06-13T13:42:40.940199Z"
    }
   },
   "cell_type": "code",
   "source": [
    "DEVICE = torch.device(\"cuda\" if torch.cuda.is_available() else \"cpu\")\n",
    "FIXED_NOISE = torch.randn(64, 100, 1, 1, device=DEVICE)"
   ],
   "id": "d2033887d3d49497",
   "outputs": [],
   "execution_count": 3
  },
  {
   "metadata": {
    "ExecuteTime": {
     "end_time": "2025-06-13T13:42:41.231869Z",
     "start_time": "2025-06-13T13:42:41.227914Z"
    }
   },
   "cell_type": "code",
   "source": [
    "def weights_init(m: nn.Module):\n",
    "    classname = m.__class__.__name__\n",
    "    if \"Conv\" in classname:\n",
    "        nn.init.normal_(m.weight.data, 0.0, 0.02)\n",
    "    elif \"BatchNorm\" in classname:\n",
    "        nn.init.normal_(m.weight.data, 1.0, 0.02)\n",
    "        nn.init.constant_(m.bias.data, 0)\n"
   ],
   "id": "5c1c1c15d51af08a",
   "outputs": [],
   "execution_count": 4
  },
  {
   "metadata": {
    "ExecuteTime": {
     "end_time": "2025-06-13T13:42:41.258986Z",
     "start_time": "2025-06-13T13:42:41.252973Z"
    }
   },
   "cell_type": "code",
   "source": [
    "class GeneratorCGAN(nn.Module):\n",
    "    def __init__(self, nz: int, num_classes: int):\n",
    "        super().__init__()\n",
    "        self.label_emb = nn.Embedding(num_classes, num_classes)\n",
    "        self.main = nn.Sequential(\n",
    "            nn.ConvTranspose2d(nz + num_classes, 128, 7, 1, 0, bias=False),\n",
    "            nn.BatchNorm2d(128),\n",
    "            nn.ReLU(True),\n",
    "            nn.ConvTranspose2d(128, 64, 4, 2, 1, bias=False),\n",
    "            nn.BatchNorm2d(64),\n",
    "            nn.ReLU(True),\n",
    "            nn.ConvTranspose2d(64, 1, 4, 2, 1, bias=False),\n",
    "            nn.Tanh(),\n",
    "        )\n",
    "\n",
    "    def forward(self, z: torch.Tensor, labels: torch.Tensor) -> torch.Tensor:\n",
    "        y = self.label_emb(labels).unsqueeze(2).unsqueeze(3)  # (N, C,1,1)\n",
    "        z = torch.cat([z, y], dim=1)\n",
    "        return self.main(z)"
   ],
   "id": "cd0e57a2285eabe6",
   "outputs": [],
   "execution_count": 5
  },
  {
   "metadata": {
    "ExecuteTime": {
     "end_time": "2025-06-13T13:42:41.280057Z",
     "start_time": "2025-06-13T13:42:41.274358Z"
    }
   },
   "cell_type": "code",
   "source": [
    "class DiscriminatorCGAN(nn.Module):\n",
    "    def __init__(self, num_classes: int):\n",
    "        super().__init__()\n",
    "        self.features = nn.Sequential(\n",
    "            nn.Conv2d(1, 64, 4, 2, 1),\n",
    "            nn.LeakyReLU(0.2, inplace=True),\n",
    "            nn.Conv2d(64, 128, 4, 2, 1),\n",
    "            nn.BatchNorm2d(128),\n",
    "            nn.LeakyReLU(0.2, inplace=True),\n",
    "        )\n",
    "        self.flatten = nn.Flatten()\n",
    "        self.fc = nn.Linear(128 * 7 * 7, 1, bias=False)\n",
    "        self.embed = nn.Embedding(num_classes, 128 * 7 * 7)\n",
    "    def forward(self, x: torch.Tensor, labels: torch.Tensor) -> torch.Tensor:\n",
    "        h = self.features(x)\n",
    "        h_flat = self.flatten(h)\n",
    "        out = self.fc(h_flat)\n",
    "        proj = torch.sum(self.embed(labels) * h_flat, dim=1, keepdim=True)\n",
    "        return out + proj"
   ],
   "id": "db04c52454993598",
   "outputs": [],
   "execution_count": 6
  },
  {
   "metadata": {},
   "cell_type": "code",
   "source": [
    "epochs = 20\n",
    "batch_size = 128\n",
    "lr = 0.0002\n",
    "beta1 = 0.5  # Adam β1\n",
    "nz = 100  # Latent vector size\n",
    "num_classes = 10  # Digits 0-9\n",
    "\n",
    "\n",
    "\n",
    "transform = T.Compose([T.ToTensor(), T.Normalize((0.5,), (0.5,))])\n",
    "dataset = torchvision.datasets.MNIST(root=\"./data\", train=True, transform=transform, download=True)\n",
    "loader = DataLoader(dataset, batch_size=batch_size, shuffle=True, num_workers=2, pin_memory=True)\n",
    "\n",
    "netG = GeneratorCGAN(nz, num_classes).to(DEVICE)\n",
    "netD = DiscriminatorCGAN(num_classes).to(DEVICE)\n",
    "netG.apply(weights_init)\n",
    "netD.apply(weights_init)\n",
    "\n",
    "criterion = nn.BCEWithLogitsLoss()\n",
    "optD = optim.Adam(netD.parameters(), lr=lr, betas=(beta1, 0.999))\n",
    "optG = optim.Adam(netG.parameters(), lr=lr, betas=(beta1, 0.999))\n",
    "\n",
    "d_history, g_history, grids = [], [], []\n",
    "\n",
    "for epoch in range(epochs):\n",
    "    for i, (imgs, labels) in enumerate(loader):\n",
    "        imgs, labels = imgs.to(DEVICE), labels.to(DEVICE)\n",
    "        bs = imgs.size(0)\n",
    "        real_lbl = torch.ones(bs, 1, device=DEVICE)\n",
    "        fake_lbl = torch.zeros(bs, 1, device=DEVICE)\n",
    "\n",
    "        optD.zero_grad()\n",
    "        out_real = netD(imgs, labels)\n",
    "        loss_real = criterion(out_real, real_lbl)\n",
    "\n",
    "        z = torch.randn(bs, nz, 1, 1, device=DEVICE)\n",
    "        fake_imgs = netG(z, labels)\n",
    "        out_fake = netD(fake_imgs.detach(), labels)\n",
    "        loss_fake = criterion(out_fake, fake_lbl)\n",
    "\n",
    "        d_loss = loss_real + loss_fake\n",
    "        d_loss.backward()\n",
    "        optD.step()\n",
    "\n",
    "        optG.zero_grad()\n",
    "        out_fake = netD(fake_imgs, labels)\n",
    "        g_loss = criterion(out_fake, real_lbl)\n",
    "        g_loss.backward()\n",
    "        optG.step()\n",
    "\n",
    "        d_history.append(d_loss.item())\n",
    "        g_history.append(g_loss.item())\n",
    "\n",
    "        if i % 100 == 0:\n",
    "            print(f\"[E{epoch + 1}/{epochs}] [{i}/{len(loader)}] D: {d_loss.item():.3f} | G: {g_loss.item():.3f}\")\n",
    "\n",
    "    with torch.no_grad():\n",
    "            lbls = torch.arange(64, device=DEVICE) % num_classes\n",
    "            grid = make_grid(netG(FIXED_NOISE, lbls).cpu(), nrow=8, normalize=True)\n",
    "            grids.append(grid.permute(1,2,0).numpy())\n",
    "            clear_output(wait=True)\n",
    "            plt.figure(figsize=(6,6))\n",
    "            plt.imshow(grids[-1], cmap='gray')\n",
    "            plt.title(f'Epoch {epoch+1}')\n",
    "            plt.axis('off')\n",
    "            display(plt.gcf())\n",
    "            plt.close()\n",
    "\n",
    "plt.figure(figsize=(7, 4))\n",
    "plt.plot(d_history, label='D loss')\n",
    "plt.plot(g_history, label='G loss')\n",
    "plt.xlabel('Iteration')\n",
    "plt.ylabel('Loss')\n",
    "plt.legend()\n",
    "plt.title('Training Losses')\n",
    "plt.show()\n",
    "\n",
    "print('Finished training!')"
   ],
   "id": "fff2ea12ff573391",
   "execution_count": 11,
   "outputs": [
    {
     "data": {
      "text/plain": [
       "<Figure size 700x400 with 1 Axes>"
      ],
      "image/png": "[encoded data removed]"
     },
     "metadata": {},
     "output_type": "display_data"
    },
    {
     "name": "stdout",
     "output_type": "stream",
     "text": [
      "Finished training!\n"
     ]
    }
   ]
  },
  {
   "metadata": {
    "ExecuteTime": {
     "end_time": "2025-06-13T13:59:16.984075Z",
     "start_time": "2025-06-13T13:59:16.876924Z"
    }
   },
   "cell_type": "code",
   "source": [
    "def show_epoch(e=0):\n",
    "    if e<0 or e>=len(grids):\n",
    "        return 'epoch index out of range'\n",
    "    plt.figure(figsize=(6,6)); plt.imshow(grids[e], cmap='gray'); plt.title(f'Epoch {e+1}'); plt.axis('off')\n",
    "    plt.show()\n",
    "\n",
    "\n",
    "interact(show_epoch, e=(0, len(grids)-1))"
   ],
   "id": "18cc2b15602fb30",
   "outputs": [
    {
     "data": {
      "text/plain": [
       "interactive(children=(IntSlider(value=0, description='e', max=19), Output()), _dom_classes=('widget-interact',…"
      ],
      "application/vnd.jupyter.widget-view+json": {
       "version_major": 2,
       "version_minor": 0,
       "model_id": "6cda52d354f943b89b4b73078056270d"
      }
     },
     "metadata": {},
     "output_type": "display_data"
    },
    {
     "data": {
      "text/plain": [
       "<function __main__.show_epoch(e=0)>"
      ]
     },
     "execution_count": 12,
     "metadata": {},
     "output_type": "execute_result"
    }
   ],
   "execution_count": 12
  }
 ],
 "metadata": {
  "kernelspec": {
   "display_name": "Python 3",
   "language": "python",
   "name": "python3"
  },
  "language_info": {
   "codemirror_mode": {
    "name": "ipython",
    "version": 2
   },
   "file_extension": ".py",
   "mimetype": "text/x-python",
   "name": "python",
   "nbconvert_exporter": "python",
   "pygments_lexer": "ipython2",
   "version": "2.7.6"
  }
 },
 "nbformat": 4,
 "nbformat_minor": 5
}
