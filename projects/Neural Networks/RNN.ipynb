{
 "cells": [
  {
   "cell_type": "code",
   "id": "initial_id",
   "metadata": {
    "collapsed": true,
    "ExecuteTime": {
     "end_time": "2025-05-22T11:46:01.817109Z",
     "start_time": "2025-05-22T11:46:01.804348Z"
    }
   },
   "source": [
    "import time\n",
    "import logging\n",
    "import random\n",
    "import datetime as dt\n",
    "\n",
    "import requests\n",
    "import pandas as pd\n",
    "import numpy as np\n",
    "from numpy.lib.stride_tricks import sliding_window_view\n",
    "from tqdm.auto import tqdm\n",
    "\n",
    "import torch\n",
    "import torch.nn as nn\n",
    "from torch.utils.data import DataLoader, TensorDataset\n",
    "from sklearn.preprocessing import MinMaxScaler\n",
    "from sklearn.model_selection import train_test_split"
   ],
   "outputs": [],
   "execution_count": 157
  },
  {
   "metadata": {
    "ExecuteTime": {
     "end_time": "2025-05-22T11:46:01.826890Z",
     "start_time": "2025-05-22T11:46:01.823078Z"
    }
   },
   "cell_type": "code",
   "source": [
    "api_key = \"X3LIHYNX5YEDL5SA\"\n",
    "symbol = \"ETH\"\n",
    "market = \"USD\"\n",
    "seq = 240\n",
    "batch = 64\n",
    "hidden = 128\n",
    "layers = 4\n",
    "dropout = 0.2\n",
    "epochs = 60\n",
    "lr = 3e-4\n",
    "patience = 7\n",
    "forecast_days = 14\n",
    "seed = 2005"
   ],
   "id": "4e7fa3ee1418bdc8",
   "outputs": [],
   "execution_count": 158
  },
  {
   "metadata": {
    "ExecuteTime": {
     "end_time": "2025-05-22T11:46:01.866333Z",
     "start_time": "2025-05-22T11:46:01.860655Z"
    }
   },
   "cell_type": "code",
   "source": [
    "np.random.seed(seed)\n",
    "random.seed(seed)\n",
    "torch.manual_seed(seed)\n",
    "if torch.cuda.is_available():\n",
    "    torch.cuda.manual_seed_all(seed)"
   ],
   "id": "3469b72ff2668389",
   "outputs": [],
   "execution_count": 159
  },
  {
   "metadata": {
    "ExecuteTime": {
     "end_time": "2025-05-22T11:46:02.912326Z",
     "start_time": "2025-05-22T11:46:01.883276Z"
    }
   },
   "cell_type": "code",
   "source": [
    "url = \"https://www.alphavantage.co/query\"\n",
    "params = {\n",
    "    \"function\": \"DIGITAL_CURRENCY_DAILY\",\n",
    "    \"symbol\": symbol,\n",
    "    \"market\": market,\n",
    "    \"apikey\": api_key,\n",
    "}\n",
    "\n",
    "for attempt in range(5):\n",
    "    r = requests.get(url, params=params, timeout=30)\n",
    "    if r.status_code == 200 and \"Time Series (Digital Currency Daily)\" in r.json():\n",
    "        raw = r.json(); break\n",
    "    wait = 5 * 2 ** attempt\n",
    "    logging.warning(\"HTTP %d → retry in %ds\", r.status_code, wait)\n",
    "    time.sleep(wait)\n",
    "\n",
    "key = \"Time Series (Digital Currency Daily)\"\n",
    "df = (pd.DataFrame.from_dict(raw[key], orient=\"index\")\n",
    "        .rename(columns=lambda c: c.split(\". \", 1)[1])\n",
    "        .astype(float)\n",
    "        .sort_index())\n",
    "df.index = pd.to_datetime(df.index)\n",
    "close_series = df[\"close\"]\n",
    "logging.info(\"Loaded %d daily points\", len(close_series))"
   ],
   "id": "3839547dd1160ad5",
   "outputs": [],
   "execution_count": 160
  },
  {
   "metadata": {
    "ExecuteTime": {
     "end_time": "2025-05-22T11:46:02.975243Z",
     "start_time": "2025-05-22T11:46:02.967586Z"
    }
   },
   "cell_type": "code",
   "source": [
    "scaler = MinMaxScaler()\n",
    "prices = scaler.fit_transform(close_series.values.reshape(-1, 1)).astype(np.float32)\n",
    "prices_flat = prices.squeeze(-1)\n",
    "\n",
    "windows = sliding_window_view(prices_flat, seq + 1)\n",
    "X = windows[:, :-1]\n",
    "y = windows[:, -1:]\n",
    "\n",
    "\n",
    "X = X[..., np.newaxis]\n",
    "y = y[..., np.newaxis]\n",
    "\n",
    "X_train, X_test, y_train, y_test = train_test_split(\n",
    "    X, y, test_size=0.2, shuffle=False, random_state=seed)\n",
    "\n",
    "train_loader = DataLoader(TensorDataset(torch.from_numpy(X_train), torch.from_numpy(y_train)),\n",
    "                          batch_size=batch, shuffle=True)\n",
    "\n",
    "test_loader = DataLoader(TensorDataset(torch.from_numpy(X_test), torch.from_numpy(y_test)),\n",
    "                         batch_size=batch)"
   ],
   "id": "67a6b62804a7c7db",
   "outputs": [],
   "execution_count": 161
  },
  {
   "metadata": {
    "ExecuteTime": {
     "end_time": "2025-05-22T11:46:03.012085Z",
     "start_time": "2025-05-22T11:46:02.981453Z"
    }
   },
   "cell_type": "code",
   "source": [
    "class GRUForecast(nn.Module):\n",
    "    def __init__(self, hidden_size=hidden, n_layers=layers, drop=dropout):\n",
    "        super().__init__()\n",
    "        self.gru = nn.GRU(input_size=1,\n",
    "                          hidden_size=hidden_size,\n",
    "                          num_layers=n_layers,\n",
    "                          batch_first=True,\n",
    "                          bidirectional=True,\n",
    "                          dropout=drop if n_layers > 1 else 0.0)\n",
    "        self.norm = nn.LayerNorm(hidden_size * 2)\n",
    "        self.fc = nn.Linear(hidden_size * 2, 1)\n",
    "        self._init_weights()\n",
    "\n",
    "    def _init_weights(self):\n",
    "        for name, param in self.named_parameters():\n",
    "            if \"weight\" in name and param.dim() > 1:\n",
    "                nn.init.xavier_uniform_(param)\n",
    "            elif \"bias\" in name:\n",
    "                nn.init.constant_(param, 0)\n",
    "\n",
    "    def forward(self, x):\n",
    "        out, _ = self.gru(x)\n",
    "        out = self.norm(out[:, -1])\n",
    "        return self.fc(out)\n",
    "\n",
    "\n",
    "device = torch.device(\"cuda\" if torch.cuda.is_available() else \"cpu\")\n",
    "model = GRUForecast().to(device)\n",
    "criterion = nn.MSELoss()\n",
    "optimizer = torch.optim.Adam(model.parameters(), lr=lr)\n",
    "scheduler = torch.optim.lr_scheduler.ReduceLROnPlateau(\n",
    "    optimizer, mode=\"min\", factor=0.5, patience=3, verbose=True)"
   ],
   "id": "a011f643a90aba53",
   "outputs": [
    {
     "name": "stderr",
     "output_type": "stream",
     "text": [
      "/Users/daniil/ml_python_3.11.11/lib/python3.11/site-packages/torch/optim/lr_scheduler.py:62: UserWarning: The verbose parameter is deprecated. Please use get_last_lr() to access the learning rate.\n",
      "  warnings.warn(\n"
     ]
    }
   ],
   "execution_count": 162
  },
  {
   "metadata": {
    "ExecuteTime": {
     "end_time": "2025-05-22T11:46:24.854841Z",
     "start_time": "2025-05-22T11:46:03.052168Z"
    }
   },
   "cell_type": "code",
   "source": [
    "best_rmse = float(\"inf\")\n",
    "wait_epochs = 0\n",
    "best_state = None\n",
    "\n",
    "for epoch in range(1, epochs + 1):\n",
    "    model.train()\n",
    "    pbar = tqdm(train_loader, desc=f\"Epoch {epoch:02d}\")\n",
    "    for xb, yb in pbar:\n",
    "        xb, yb = xb.to(device), yb.squeeze(1).to(device)\n",
    "        optimizer.zero_grad()\n",
    "        loss = criterion(model(xb), yb)\n",
    "        loss.backward(); optimizer.step()\n",
    "        pbar.set_postfix(loss=f\"{loss.item():.4f}\")\n",
    "\n",
    "    # evaluation\n",
    "    model.eval(); se = 0.0; n = 0\n",
    "    with torch.no_grad():\n",
    "        for xb, yb in test_loader:\n",
    "            preds = model(xb.to(device)).cpu()\n",
    "            se += ((preds - yb.squeeze(1)) ** 2).sum().item(); n += len(yb)\n",
    "    rmse = (se / n) ** 0.5\n",
    "    logging.info(\"Epoch %02d | RMSE = %.4f\", epoch, rmse)\n",
    "    scheduler.step(rmse)\n",
    "\n",
    "    if rmse + 1e-6 < best_rmse:\n",
    "        best_rmse = rmse\n",
    "        wait_epochs = 0\n",
    "        best_state = model.state_dict()\n",
    "    else:\n",
    "        wait_epochs += 1\n",
    "        if wait_epochs >= patience:\n",
    "            logging.info(\"Early stopping triggered at epoch %d\", epoch)\n",
    "            break"
   ],
   "id": "8162b0bd5f2a62f4",
   "outputs": [
    {
     "data": {
      "text/plain": [
       "Epoch 01:   0%|          | 0/2 [00:00<?, ?it/s]"
      ],
      "application/vnd.jupyter.widget-view+json": {
       "version_major": 2,
       "version_minor": 0,
       "model_id": "2e28c9660e2847119742e9ca4c24ca96"
      }
     },
     "metadata": {},
     "output_type": "display_data"
    },
    {
     "data": {
      "text/plain": [
       "Epoch 02:   0%|          | 0/2 [00:00<?, ?it/s]"
      ],
      "application/vnd.jupyter.widget-view+json": {
       "version_major": 2,
       "version_minor": 0,
       "model_id": "a69c6b8fae074139b6aeaedbb2f350d7"
      }
     },
     "metadata": {},
     "output_type": "display_data"
    },
    {
     "data": {
      "text/plain": [
       "Epoch 03:   0%|          | 0/2 [00:00<?, ?it/s]"
      ],
      "application/vnd.jupyter.widget-view+json": {
       "version_major": 2,
       "version_minor": 0,
       "model_id": "05623ab3339b428da237de4594b29140"
      }
     },
     "metadata": {},
     "output_type": "display_data"
    },
    {
     "data": {
      "text/plain": [
       "Epoch 04:   0%|          | 0/2 [00:00<?, ?it/s]"
      ],
      "application/vnd.jupyter.widget-view+json": {
       "version_major": 2,
       "version_minor": 0,
       "model_id": "7ccc7a37230846258214e6b5fdace55f"
      }
     },
     "metadata": {},
     "output_type": "display_data"
    },
    {
     "data": {
      "text/plain": [
       "Epoch 05:   0%|          | 0/2 [00:00<?, ?it/s]"
      ],
      "application/vnd.jupyter.widget-view+json": {
       "version_major": 2,
       "version_minor": 0,
       "model_id": "d6427fd0874a4f22a91b7f2be3b9b347"
      }
     },
     "metadata": {},
     "output_type": "display_data"
    },
    {
     "data": {
      "text/plain": [
       "Epoch 06:   0%|          | 0/2 [00:00<?, ?it/s]"
      ],
      "application/vnd.jupyter.widget-view+json": {
       "version_major": 2,
       "version_minor": 0,
       "model_id": "79ed32922e944e31a9d35b1be18f0786"
      }
     },
     "metadata": {},
     "output_type": "display_data"
    },
    {
     "data": {
      "text/plain": [
       "Epoch 07:   0%|          | 0/2 [00:00<?, ?it/s]"
      ],
      "application/vnd.jupyter.widget-view+json": {
       "version_major": 2,
       "version_minor": 0,
       "model_id": "029847abcc5d49c1976e92030943f327"
      }
     },
     "metadata": {},
     "output_type": "display_data"
    },
    {
     "data": {
      "text/plain": [
       "Epoch 08:   0%|          | 0/2 [00:00<?, ?it/s]"
      ],
      "application/vnd.jupyter.widget-view+json": {
       "version_major": 2,
       "version_minor": 0,
       "model_id": "b987a55f4891405d8d712fad962c4880"
      }
     },
     "metadata": {},
     "output_type": "display_data"
    },
    {
     "data": {
      "text/plain": [
       "Epoch 09:   0%|          | 0/2 [00:00<?, ?it/s]"
      ],
      "application/vnd.jupyter.widget-view+json": {
       "version_major": 2,
       "version_minor": 0,
       "model_id": "eb179cb932fe4a1cbaf2be2a3d99349c"
      }
     },
     "metadata": {},
     "output_type": "display_data"
    },
    {
     "data": {
      "text/plain": [
       "Epoch 10:   0%|          | 0/2 [00:00<?, ?it/s]"
      ],
      "application/vnd.jupyter.widget-view+json": {
       "version_major": 2,
       "version_minor": 0,
       "model_id": "7b9af9992c0845fba706bcd5200b8939"
      }
     },
     "metadata": {},
     "output_type": "display_data"
    },
    {
     "data": {
      "text/plain": [
       "Epoch 11:   0%|          | 0/2 [00:00<?, ?it/s]"
      ],
      "application/vnd.jupyter.widget-view+json": {
       "version_major": 2,
       "version_minor": 0,
       "model_id": "de6d1e8e2f054b8b97ce4aaae2ae4789"
      }
     },
     "metadata": {},
     "output_type": "display_data"
    },
    {
     "data": {
      "text/plain": [
       "Epoch 12:   0%|          | 0/2 [00:00<?, ?it/s]"
      ],
      "application/vnd.jupyter.widget-view+json": {
       "version_major": 2,
       "version_minor": 0,
       "model_id": "f4bc8c77563b4fbfaa8b314a9221e540"
      }
     },
     "metadata": {},
     "output_type": "display_data"
    },
    {
     "data": {
      "text/plain": [
       "Epoch 13:   0%|          | 0/2 [00:00<?, ?it/s]"
      ],
      "application/vnd.jupyter.widget-view+json": {
       "version_major": 2,
       "version_minor": 0,
       "model_id": "b553053c63554e40bf426308cddb7135"
      }
     },
     "metadata": {},
     "output_type": "display_data"
    },
    {
     "data": {
      "text/plain": [
       "Epoch 14:   0%|          | 0/2 [00:00<?, ?it/s]"
      ],
      "application/vnd.jupyter.widget-view+json": {
       "version_major": 2,
       "version_minor": 0,
       "model_id": "b5f1a5ba8f0847858ad836d6131da440"
      }
     },
     "metadata": {},
     "output_type": "display_data"
    },
    {
     "data": {
      "text/plain": [
       "Epoch 15:   0%|          | 0/2 [00:00<?, ?it/s]"
      ],
      "application/vnd.jupyter.widget-view+json": {
       "version_major": 2,
       "version_minor": 0,
       "model_id": "d99d3323cfcc43ce834d1f0e84abb18b"
      }
     },
     "metadata": {},
     "output_type": "display_data"
    },
    {
     "data": {
      "text/plain": [
       "Epoch 16:   0%|          | 0/2 [00:00<?, ?it/s]"
      ],
      "application/vnd.jupyter.widget-view+json": {
       "version_major": 2,
       "version_minor": 0,
       "model_id": "f61db987f6c745af9ed41b1d26a16f8c"
      }
     },
     "metadata": {},
     "output_type": "display_data"
    },
    {
     "data": {
      "text/plain": [
       "Epoch 17:   0%|          | 0/2 [00:00<?, ?it/s]"
      ],
      "application/vnd.jupyter.widget-view+json": {
       "version_major": 2,
       "version_minor": 0,
       "model_id": "ecacb1ea903846c284cca6f50b57d253"
      }
     },
     "metadata": {},
     "output_type": "display_data"
    }
   ],
   "execution_count": 163
  },
  {
   "metadata": {
    "ExecuteTime": {
     "end_time": "2025-05-22T11:46:25.263548Z",
     "start_time": "2025-05-22T11:46:24.896409Z"
    }
   },
   "cell_type": "code",
   "source": [
    "model.eval()\n",
    "window = torch.from_numpy(prices_flat[-seq:]).unsqueeze(0).unsqueeze(-1).to(device)\n",
    "forecast = []\n",
    "with torch.no_grad():\n",
    "    for _ in range(forecast_days):\n",
    "        norm_pred = model(window).item()\n",
    "        price_pred = scaler.inverse_transform([[norm_pred]])[0, 0]\n",
    "        forecast.append(price_pred)\n",
    "        window = window.roll(-1, dims=1)\n",
    "        window[0, -1, 0] = norm_pred\n",
    "\n",
    "dates = [close_series.index[-1] + dt.timedelta(days=i + 1) for i in range(forecast_days)]\n",
    "out_df = pd.DataFrame({\"date\": dates, \"eth_usd_pred\": forecast})\n",
    "\n",
    "print(out_df)"
   ],
   "id": "2118baa963d67a42",
   "outputs": [
    {
     "name": "stdout",
     "output_type": "stream",
     "text": [
      "         date  eth_usd_pred\n",
      "0  2025-05-23   2799.795746\n",
      "1  2025-05-24   2826.893856\n",
      "2  2025-05-25   2844.524587\n",
      "3  2025-05-26   2853.086808\n",
      "4  2025-05-27   2855.863021\n",
      "5  2025-05-28   2855.342830\n",
      "6  2025-05-29   2853.244542\n",
      "7  2025-05-30   2850.629386\n",
      "8  2025-05-31   2848.069680\n",
      "9  2025-06-01   2845.820909\n",
      "10 2025-06-02   2843.946833\n",
      "11 2025-06-03   2842.407866\n",
      "12 2025-06-04   2841.134661\n",
      "13 2025-06-05   2840.058472\n"
     ]
    }
   ],
   "execution_count": 164
  }
 ],
 "metadata": {
  "kernelspec": {
   "display_name": "Python 3",
   "language": "python",
   "name": "python3"
  },
  "language_info": {
   "codemirror_mode": {
    "name": "ipython",
    "version": 2
   },
   "file_extension": ".py",
   "mimetype": "text/x-python",
   "name": "python",
   "nbconvert_exporter": "python",
   "pygments_lexer": "ipython2",
   "version": "2.7.6"
  }
 },
 "nbformat": 4,
 "nbformat_minor": 5
}
